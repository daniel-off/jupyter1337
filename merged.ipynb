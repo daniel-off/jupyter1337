{
 "cells": [
  {
   "cell_type": "markdown",
   "metadata": {},
   "source": [
    "## Cvičenie 1"
   ]
  },
  {
   "cell_type": "markdown",
   "metadata": {},
   "source": [
    "Na cvičeniach si budeme často generovať náhodné dáta s požadovanými vlastnosťami. Pri\n",
    "generovaní je vhodné si najprv nastaviť inicializáciu generátora náhodných čísel (inak by sa vygenerovali pri každom spustení rozdielne dáta). \n",
    "\n",
    "Nasledujúci príklad vygeneruje náhodný vektor 100 hodnôt podľa normálneho rozdelenia s 0 strednou hodnotou a štandardnou\n",
    "odchýlkou 0.5:"
   ]
  },
  {
   "cell_type": "code",
   "execution_count": null,
   "metadata": {},
   "outputs": [],
   "source": [
    "set.seed(1234)\n",
    "x <- rnorm(100, mean=0, sd=0.5)\n",
    "print(x)"
   ]
  },
  {
   "cell_type": "markdown",
   "metadata": {},
   "source": [
    "Hodnoty môžeme vypočítať aj zadaním funkcie. \n",
    "\n",
    "Nasledujúce príkazy vygenerujú postupnosť čísel `x od 0 do 10 s krokom 0.5` pre ktorú vypočítajú hodnoty lineárnej funkcie `y = 3 x + 2`."
   ]
  },
  {
   "cell_type": "code",
   "execution_count": null,
   "metadata": {},
   "outputs": [],
   "source": [
    "x <- seq(from=0, to=10, by=0.5)\n",
    "print(x)"
   ]
  },
  {
   "cell_type": "code",
   "execution_count": null,
   "metadata": {},
   "outputs": [],
   "source": [
    "f <- function(x) { 3*x + 2 }\n",
    "y <- sapply(x,f)\n",
    "print(y)"
   ]
  },
  {
   "cell_type": "code",
   "execution_count": null,
   "metadata": {},
   "outputs": [],
   "source": [
    "plot(y ~ x)"
   ]
  },
  {
   "cell_type": "markdown",
   "metadata": {},
   "source": [
    "K vygenerovaným dátam môžeme pridať náhodný šum s požadovaným rozdelením pravdepodobnosti. \n",
    "\n",
    "Nasledujúci príklad vygeneruje náhodný vektor s uniformným rozdelením s intervalom `[-1,1]`, ktorý pripočíta k hodnotám `y`."
   ]
  },
  {
   "cell_type": "code",
   "execution_count": null,
   "metadata": {},
   "outputs": [],
   "source": [
    "noise <- runif(length(y), min=-1, max=1)\n",
    "print(noise)"
   ]
  },
  {
   "cell_type": "code",
   "execution_count": null,
   "metadata": {},
   "outputs": [],
   "source": [
    "y <- y + noise\n",
    "plot(y ~ x)"
   ]
  },
  {
   "cell_type": "markdown",
   "metadata": {},
   "source": [
    "### Inštalácia príkladov"
   ]
  },
  {
   "cell_type": "markdown",
   "metadata": {},
   "source": [
    "Na cvičení budete pracovať s dátami, ktoré sú súčasťou balíka `\"AER\"`. Balík `\"AER\"` obsahuje\n",
    "dátové súbory pripravené pre publikáciu `Applied Econometrics with R`.\n",
    "\n",
    "Nasledujúce príkazy nainštalujú balík do prostredia R a načítajú dátovú množinu`CPS1985`. Dátovú množinu si premenujeme na `cps`."
   ]
  },
  {
   "cell_type": "code",
   "execution_count": null,
   "metadata": {},
   "outputs": [],
   "source": [
    "install.packages(\"AER\", repos='http://cran.us.r-project.org')\n",
    "data(\"CPS1985\", package=\"AER\")"
   ]
  },
  {
   "cell_type": "code",
   "execution_count": null,
   "metadata": {},
   "outputs": [],
   "source": [
    "cps <- CPS1985\n",
    "print(cps)"
   ]
  },
  {
   "cell_type": "markdown",
   "metadata": {},
   "source": [
    "Popis dátovej množiny môžete získať príkazom `str`. Príkaz head vypíše niekoľko prvých\n",
    "záznamov. Dáta obsahujú demografické údaje z prieskumu obyvateľstva z mája roku 1985\n",
    "a obsahujú základné atribúty ako napr. príjem (`wage`), stupeň vzdelania, vek, atď."
   ]
  },
  {
   "cell_type": "code",
   "execution_count": null,
   "metadata": {},
   "outputs": [],
   "source": [
    "str(cps)"
   ]
  },
  {
   "cell_type": "code",
   "execution_count": null,
   "metadata": {},
   "outputs": [],
   "source": [
    "head(cps)"
   ]
  },
  {
   "cell_type": "markdown",
   "metadata": {},
   "source": [
    "Príkazom attach si vytvoríme odkazy na stĺpce dátovej množiny, aby sme sa na nich mohli\n",
    "priamo odkazovať."
   ]
  },
  {
   "cell_type": "code",
   "execution_count": null,
   "metadata": {},
   "outputs": [],
   "source": [
    "attach(cps)"
   ]
  },
  {
   "cell_type": "markdown",
   "metadata": {},
   "source": [
    "### Základné štatistiky pre číselné atribúty"
   ]
  },
  {
   "cell_type": "markdown",
   "metadata": {},
   "source": [
    "Prehľadové základné štatistiky pre číselné atribúty je možné vypísať príkazom summary.\n",
    "Jednotlivé štatistiky môžeme vypočítať aj samostatne funkciami `mean` (priemer), `sd`\n",
    "(štandardná odchýlka), `var` (variancia), atď. Nasledujúce príkazy vypočítajú základné štatistiky\n",
    "pre príjem."
   ]
  },
  {
   "cell_type": "code",
   "execution_count": null,
   "metadata": {},
   "outputs": [],
   "source": [
    "summary(wage)"
   ]
  },
  {
   "cell_type": "code",
   "execution_count": null,
   "metadata": {},
   "outputs": [],
   "source": [
    "mean(wage)"
   ]
  },
  {
   "cell_type": "code",
   "execution_count": null,
   "metadata": {},
   "outputs": [],
   "source": [
    "sd(wage)"
   ]
  },
  {
   "cell_type": "markdown",
   "metadata": {},
   "source": [
    "Graficky si môžeme zobraziť `histogram` hodnôt. Štandardne sa na histograme zobrazí početnosť\n",
    "príkladov, ktoré spadajú do daného rozsahu histogramu. Ak chceme zobraziť iba odhad\n",
    "pravdepodobnosti (počet príkladov s hodnotami v danom rozsahu \\ celkový počet príkladov),\n",
    "parameter `freq` nastavíme na `FALSE`. Hodnoty pravdepodobnosti môžeme aproximovať\n",
    "funkciou hustoty `density`. Nasledujúce príkazy vykreslia histogram s aproximovanou funkciou\n",
    "hustoty."
   ]
  },
  {
   "cell_type": "code",
   "execution_count": null,
   "metadata": {},
   "outputs": [],
   "source": [
    "hist(wage)\n",
    "hist(wage, freq=FALSE)\n",
    "lines(density(wage))"
   ]
  },
  {
   "cell_type": "markdown",
   "metadata": {},
   "source": [
    "Aproximovaná funkcia hustoty nám slúži napr. na lepšie vizuálne porovnanie či majú hodnoty\n",
    "normálne rozdelenie, ktoré má nasledujúci priebeh:"
   ]
  },
  {
   "cell_type": "code",
   "execution_count": null,
   "metadata": {},
   "outputs": [],
   "source": [
    "curve(dnorm, from=-5, to=5)"
   ]
  },
  {
   "cell_type": "markdown",
   "metadata": {},
   "source": [
    "Dáta za príjem sú vychýlené k nižším hodnotám (tzn. väčší počet ľudí má menší plat). Aby sme\n",
    "dáta normalizovali, skúsime ich transformovať logaritmickou funkciou. Nasledujúce príkazy\n",
    "vykreslia histogram a aproximovanú funkciu hustoty pre logaritmicky transformované dáta."
   ]
  },
  {
   "cell_type": "code",
   "execution_count": null,
   "metadata": {},
   "outputs": [],
   "source": [
    "hist(log(wage), freq=FALSE)\n",
    "lines(density(log(wage)))"
   ]
  },
  {
   "cell_type": "markdown",
   "metadata": {},
   "source": [
    "### Základné štatistiky pre faktory (nominálne resp. ordinálne atribúty)"
   ]
  },
  {
   "cell_type": "markdown",
   "metadata": {},
   "source": [
    "Pre faktory prehľad zobrazí početnosť jednotlivých hodnôt, ktoré je možné graficky zobraziť\n",
    "stĺpcovým grafom."
   ]
  },
  {
   "cell_type": "code",
   "execution_count": null,
   "metadata": {},
   "outputs": [],
   "source": [
    "summary(occupation)\n",
    "barplot(table(occupation))"
   ]
  },
  {
   "cell_type": "markdown",
   "metadata": {},
   "source": [
    "### Závislosti medzi dvoma číselnými atribútmi"
   ]
  },
  {
   "cell_type": "markdown",
   "metadata": {},
   "source": [
    "Základnou štatistikou je korelačný koeficient, ktorý meria lineárnu závislosť medzi dvoma\n",
    "číselnými atribútmi. Nasledujúce príkazy vypočítajú korelačný koeficient medzi príjmom\n",
    "a vzdelaním. Závislosť si môžeme zobraziť aj graficky kde môžeme potvrdiť linearitu."
   ]
  },
  {
   "cell_type": "code",
   "execution_count": null,
   "metadata": {},
   "outputs": [],
   "source": [
    "cor(wage, education)\n",
    "cor(log(wage), education)\n",
    "plot(log(wage) ~ education)"
   ]
  },
  {
   "cell_type": "markdown",
   "metadata": {},
   "source": [
    "### Závislosti medzi dvoma faktormi"
   ]
  },
  {
   "cell_type": "markdown",
   "metadata": {},
   "source": [
    "Závislosť medzi dvoma faktormi môžeme zistiť z kontingenčnej tabuľky, ktorá určuje\n",
    "početnosť spoločného výskytu hodnôt dvoch faktorov. Početnosť je možné prehľadne zobraziť\n",
    "graficky vykreslením, napr. mozaikovým grafom. "
   ]
  },
  {
   "cell_type": "code",
   "execution_count": null,
   "metadata": {},
   "outputs": [],
   "source": [
    "table(gender, occupation)\n",
    "plot(gender ~ occupation)"
   ]
  },
  {
   "cell_type": "markdown",
   "metadata": {},
   "source": [
    "Podobne ako sa pre číselné atribúty používa\n",
    "korelačný koeficient, tak sa pre faktory používa chi-kvadrát test. Ak je kritická hodnota\n",
    "`p < 0.05` atribúty sa považujú za závislé."
   ]
  },
  {
   "cell_type": "code",
   "execution_count": null,
   "metadata": {},
   "outputs": [],
   "source": [
    "chisq.test(table(gender, occupation))"
   ]
  },
  {
   "cell_type": "markdown",
   "metadata": {},
   "source": [
    "### Závislosti medzi jedným číselným atribútom a jedným faktorom"
   ]
  },
  {
   "cell_type": "markdown",
   "metadata": {},
   "source": [
    "Pomocou funkcie tapply vieme vypočítať štatistiky číselného atribútu pre jednotlivé hodnoty\n",
    "faktora, napr. nasledujúci príkaz vypočíta priemerný plat samostatne pre mužov a ženy\n",
    "(hodnoty faktora `gender`). Súhrne je možné závislosti medzi číselným atribútom a faktorom\n",
    "zobraziť pomocou krabicového grafu (`boxplot`)."
   ]
  },
  {
   "cell_type": "code",
   "execution_count": null,
   "metadata": {},
   "outputs": [],
   "source": [
    "tapply(log(wage), gender, mean)\n",
    "boxplot(log(wage) ~ gender)"
   ]
  },
  {
   "cell_type": "markdown",
   "metadata": {},
   "source": [
    "Podrobnejšie je možné zobraziť graf kvantilov (`q-q plot`). Najprv si odfiltrujeme dáta podľa\n",
    "pohlavia do dvoch podmnožín ktorých kvantily zobrazíme funkciou qqplot. Do grafu pridáme\n",
    "aj 45st. referenčnú priamku predeľujúcu zobrazenie. Keďže väčšina kvantilov je pod referenčnou\n",
    "čiarou, muži zarábajú viac."
   ]
  },
  {
   "cell_type": "code",
   "execution_count": null,
   "metadata": {},
   "outputs": [],
   "source": [
    "mwage <- subset(cps, gender == \"male\")$wage\n",
    "fwage <- subset(cps, gender == \"female\")$wage\n",
    "qqplot(mwage, fwage, xlim=range(wage), ylim=range(wage))\n",
    "abline(0,1)"
   ]
  },
  {
   "cell_type": "markdown",
   "metadata": {},
   "source": [
    "## Úlohy"
   ]
  },
  {
   "cell_type": "markdown",
   "metadata": {},
   "source": [
    "**1.** Zobrazte histogramy pre všetky číselné atribúty z dátovej množiny `CPS`, zistite ktorý z\n",
    "nich má približne normálne rozdelenie. Transformujte atribúty použitím logaritmickej\n",
    "funkcie a zistite, či majú transformované dáta približne normálne rozdelenie."
   ]
  },
  {
   "cell_type": "code",
   "execution_count": null,
   "metadata": {},
   "outputs": [],
   "source": [
    "hist(wage, freq=F)\n",
    "lines(density(wage))\n",
    "# normalizacia log \n",
    "hist(log(wage), freq = F)\n",
    "lines(density(log(wage)))\n",
    "\n",
    "hist(experience, freq = F)\n",
    "lines(density(experience))\n",
    "# normalizacia log\n",
    "hist(log(experience), freq = F)\n",
    "lines(density(log(experience)))\n",
    "\n",
    "hist(education, freq = F)\n",
    "lines(density(education))\n",
    "# normalizacia log\n",
    "hist(log(education), freq = F)\n",
    "lines(density(log(education)))\n",
    "\n",
    "hist(age, freq = F)\n",
    "lines(density(age))\n",
    "# normalizacia log\n",
    "hist(log(age), freq = F)\n",
    "lines(density(log(age)))"
   ]
  },
  {
   "cell_type": "markdown",
   "metadata": {},
   "source": [
    "**2.** Zobrazte početnosti hodnôt pre všetky faktory (nominálne resp. ordinálne atribúty).\n",
    "Zistite, ktoré z týchto rozdelení je približne uniformné. Zobrazte stĺpcové grafy s\n",
    "relatívnymi početnosťami (počet hodnôt/celkový počet príkladov)."
   ]
  },
  {
   "cell_type": "code",
   "execution_count": null,
   "metadata": {},
   "outputs": [],
   "source": [
    "attach(cps)\n",
    "\n",
    "summary(ethnicity)\n",
    "summary(region)\n",
    "summary(gender)\n",
    "summary(occupation)\n",
    "summary(sector)\n",
    "summary(union)\n",
    "summary(married)\n",
    "\n",
    "barplot(table(ethnicity)/nrow(cps))\n",
    "barplot(table(region)/nrow(cps))\n",
    "barplot(table(gender)/nrow(cps))\n",
    "barplot(table(occupation)/nrow(cps))\n",
    "barplot(table(sector)/nrow(cps))\n",
    "barplot(table(union)/nrow(cps))\n",
    "barplot(table(married)/nrow(cps))"
   ]
  },
  {
   "cell_type": "markdown",
   "metadata": {},
   "source": [
    "**3.** Vypočítajte korelačnú maticu medzi všetkými číselnými atribútmi pomocou funkcie cor\n",
    "(číselné atribúty si môžete vybrať z množiny x použitím funkcie `x[sapply(x,\n",
    "is.numeric)]`). Pre dvojicu atribútov s najväčšou koreláciou nakreslite `X-Y graf` ich\n",
    "závislosti."
   ]
  },
  {
   "cell_type": "code",
   "execution_count": null,
   "metadata": {},
   "outputs": [],
   "source": [
    "cor(cps[sapply(cps, is.numeric)])\n",
    "plot(age ~ experience)"
   ]
  },
  {
   "cell_type": "markdown",
   "metadata": {},
   "source": [
    "**4.** Vypočítajte `chi-kvadrát test` pre všetky dvojice faktorov. Pre faktory, ktoré majú\n",
    "najväčšiu závislosť nakreslite mozaikový graf."
   ]
  },
  {
   "cell_type": "code",
   "execution_count": null,
   "metadata": {},
   "outputs": [],
   "source": [
    "chisq.test(table(ethnicity, region))\n",
    "chisq.test(table(ethnicity, gender)) \n",
    "chisq.test(table(ethnicity, occupation))\n",
    "chisq.test(table(ethnicity, sector))\n",
    "chisq.test(table(ethnicity, union))\n",
    "chisq.test(table(ethnicity, married))\n",
    "chisq.test(table(region, gender))\n",
    "chisq.test(table(region, occupation))\n",
    "chisq.test(table(region, sector))\n",
    "chisq.test(table(region, union))\n",
    "chisq.test(table(region, married)) \n",
    "chisq.test(table(gender, occupation))\n",
    "chisq.test(table(gender, sector))\n",
    "chisq.test(table(gender, union))\n",
    "chisq.test(table(gender, married))\n",
    "chisq.test(table(occupation, sector))\n",
    "chisq.test(table(occupation, union))\n",
    "chisq.test(table(occupation, married))\n",
    "chisq.test(table(sector, union))\n",
    "chisq.test(table(sector, married))\n",
    "chisq.test(table(union, married))\n",
    "\n",
    "plot(gender ~ occupation)"
   ]
  },
  {
   "cell_type": "markdown",
   "metadata": {},
   "source": [
    "**5.** Vypočítajte a zobrazte priemernú mzdu pre všetky hodnoty a všetky faktory samostatne.\n",
    "Pre vypočítané hodnoty zobrazte krabicové grafy. Zistite kde sú najväčšie rozdiely v\n",
    "platoch a pre danú závislosť nakreslite `q-q graf`."
   ]
  },
  {
   "cell_type": "code",
   "execution_count": null,
   "metadata": {},
   "outputs": [],
   "source": [
    "tapply(log(wage), gender, mean)\n",
    "boxplot(log(wage) ~ gender)\n",
    "\n",
    "tapply(log(wage), ethnicity, mean)\n",
    "boxplot(log(wage) ~ ethnicity)\n",
    "\n",
    "tapply(log(wage), sector, mean)\n",
    "boxplot(log(wage) ~ sector)\n",
    "\n",
    "tapply(log(wage), occupation, mean)\n",
    "boxplot(log(wage) ~ occupation)\n",
    "\n",
    "tapply(log(wage), union, mean)\n",
    "boxplot(log(wage) ~ union)\n",
    "\n",
    "tapply(log(wage), region, mean)\n",
    "boxplot(log(wage) ~ region)\n",
    "\n",
    "tapply(log(wage), married, mean)\n",
    "boxplot(log(wage) ~ married)\n",
    "\n",
    "w = subset(cps, occupation == \"services\")$wage\n",
    "t = subset(cps, occupation == \"technical\")$wage\n",
    "\n",
    "qqplot(w,t,  xlim=range(wage), ylim=range(wage))\n",
    "abline(0,1)"
   ]
  },
  {
   "cell_type": "markdown",
   "metadata": {},
   "source": [
    "**6.** Vygenerujte náhodné vektory `x` a `y` o veľkosti `100` hodnôt z normálneho rozdelenia so\n",
    "`strednou hodnotou 1` a `štandardnou odchýlkou 2`. Zobrazte ich závislosť na `X-Y grafe` a\n",
    "vypočítajte korelačný koeficient. Pridajte do oboch vektorov jednu extrémnu hodnotu\n",
    "(napr. `10`, `20`) pomocou funkcie `c()`. Vypočítajte korelačný koeficient na zmenených\n",
    "dátach a zobrazte `X-Y závislosť`."
   ]
  },
  {
   "cell_type": "code",
   "execution_count": null,
   "metadata": {},
   "outputs": [],
   "source": [
    "set.seed(1234)\n",
    "x = rnorm(100, mean = 1, sd = 2)\n",
    "y = rnorm(100, mean = 1, sd = 2)\n",
    "cor(x,y)\n",
    "plot(y ~ x)\n",
    "\n",
    "x = c(x, 10)\n",
    "y = c(y, 20)\n",
    "cor(x,y)\n",
    "plot(y ~ x)"
   ]
  },
  {
   "cell_type": "markdown",
   "metadata": {},
   "source": [
    "**7.** Vygenerujte náhodné vektory `x` a `y` o veľkosti `100` hodnôt z normálneho rozdelenia so\n",
    "`strednou hodnotou 1` a `štandardnou odchýlkou 2`. Vypočítajte korelačný koeficient a\n",
    "zobrazte ich závislosť. Postupne vygenerujte nové hodnoty vo vektore `y` s rovnakým\n",
    "stredom `1` ale zmenšujúcou sa štandardnou odchýlkou s hodnotami `2`, `1.5`, `1` a `0.5`. Pre\n",
    "zmenené hodnoty `y` vypočítajte korelačný koeficient a zobrazte `X-Y` priebeh."
   ]
  },
  {
   "cell_type": "code",
   "execution_count": null,
   "metadata": {},
   "outputs": [],
   "source": [
    "x = rnorm(100, mean = 1, sd = 2)\n",
    "y = rnorm(100, mean = 1, sd = 2)\n",
    "cor(x,y)\n",
    "plot(x~y)\n",
    "\n",
    "y2 = rnorm(100, mean = 1, sd = 1.5) \n",
    "cor(x,y2)\n",
    "plot(x~y2)\n",
    "\n",
    "\n",
    "y3 = rnorm(100, mean = 1, sd = 1) \n",
    "cor(x,y3)\n",
    "plot(x~y3)\n",
    "\n",
    "\n",
    "y4 = rnorm(100, mean = 1, sd = 0.5) \n",
    "cor(x,y4)\n",
    "plot(x~y4)"
   ]
  },
  {
   "cell_type": "markdown",
   "metadata": {},
   "source": [
    "**8.** Vygenerujete si sekvenciu dát `x` od `0` do `10` s krokom `0.5`. Pre vygenerované hodnoty `x`\n",
    "vypočítajte hodnotu funkcie `y = 2.5x + 2` a pridajte k nej šum s normálnym rozdelením\n",
    "s `0 strednou hodnotou` a `štandardnou odchýlkou 0.5`. Zobrazte priebeh funkcie na `X-Y`\n",
    "grafe. Postupne pridávajte viac šumu s väčšou štandardnou odchýlkou `1`, `1.5`, `2.0`, `3.0`.\n",
    "Po každej zmene zobrazte dáta a vypočítajte korelačný koeficient medzi `x` a `y`."
   ]
  },
  {
   "cell_type": "code",
   "execution_count": null,
   "metadata": {},
   "outputs": [],
   "source": [
    "x = seq(from = 0, to = 10, by = 0.5)\n",
    "f = function(x) { \n",
    "  2.5*x + 2  \n",
    "  }\n",
    "y = sapply(x,f)\n",
    "plot(y ~ x)\n",
    "\n",
    "noise = rnorm(length(y), mean = 0, sd = 0.5)\n",
    "y = y + noise\n",
    "plot(y ~ x)\n",
    "cor(x,y)\n",
    "\n",
    "noise2 = rnorm(length(y), mean = 0, sd = 1)\n",
    "y = y + noise2\n",
    "plot(y ~ x)\n",
    "cor(x,y)\n",
    "\n",
    "noise3 = rnorm(length(y), mean = 0, sd = 1.5)\n",
    "y = y + noise3\n",
    "plot(y ~ x)\n",
    "cor(x,y)\n",
    "\n",
    "noise4 = rnorm(length(y), mean = 0, sd = 2)\n",
    "y = y + noise4\n",
    "plot(y ~ x)\n",
    "cor(x,y)\n",
    "\n",
    "noise5 = rnorm(length(y), mean = 0, sd = 3)\n",
    "y = y + noise5\n",
    "plot(y ~ x)\n",
    "cor(x,y)"
   ]
  },
  {
   "cell_type": "markdown",
   "metadata": {},
   "source": [
    "**9.** Vygenerujete si vektor `x` so `100` hodnotami z uniformného rozdelenia s `min 0` a `max 10`.\n",
    "Pre vygenerované hodnoty `x` vypočítajte hodnotu funkcie `y = 2*sin(x) + x` a pridajte k\n",
    "nej šum s normálnym rozdelením s `0 strednou hodnotou` a `štandardnou odchýlkou 0.1`.\n",
    "Zobrazte priebeh funkcie na `X-Y` grafe a vypočítajte korelačný koeficient medzi `x` a `y`."
   ]
  },
  {
   "cell_type": "code",
   "execution_count": null,
   "metadata": {},
   "outputs": [],
   "source": [
    "x = runif(100, min = 0, max = 10)\n",
    "f = function(x){ 2*sin(x) + x }\n",
    "y = sapply(x,f)\n",
    "plot(y ~ x)\n",
    "\n",
    "noise = rnorm(length(y), mean = 0, sd = 0.1)\n",
    "y = y + noise\n",
    "plot(y ~ x)\n",
    "cor(x,y)"
   ]
  },
  {
   "cell_type": "code",
   "execution_count": null,
   "metadata": {},
   "outputs": [],
   "source": []
  },
  {
   "cell_type": "markdown",
   "metadata": {},
   "source": [
    "# Cvičenie 2 - Časové rady\n",
    "&nbsp;"
   ]
  },
  {
   "cell_type": "markdown",
   "metadata": {},
   "source": [
    "Časové rady sú dátové množiny pri ktorých sú jednotlivé hodnoty usporiadané sekvenčne\n",
    "v čase. Sú definované počiatočným a koncovým časom (napr. dáta od roku 2016 do 2017)\n",
    "a frekvenciou vzorkovania (napr. s frekvenciou 12 pre mesačné dáta). V prostredí R sa\n",
    "používajú na reprezentáciu časových radov objekty typu `ts`, ktoré môžete priamo načítať ako\n",
    "dátovú množinu. \n",
    "\n",
    "\n",
    "Množina `AirPassengers` udáva nárast cestujúcich v leteckej dobre v USA a obsahuje hodnoty\n",
    "od `januára 1949 (1949,1)` do `decembra 1960 (1960,12)`. Vzorkovacia frekvencia je `12 hodnôt`\n",
    "na rok (tzv. mesačné dáta). \n",
    "\n",
    "Funkcia `summary(ts)` zobrazuje len základné charakteristiky číselný hodnôt,\n",
    "ktoré tvoria časový rad. Počiatočný a koncový čas a frekvenciu vzorkovania môžete vypísať\n",
    "funkciami `start(ts)`, `end(ts)` a `frequency(ts)`:"
   ]
  },
  {
   "cell_type": "code",
   "execution_count": null,
   "metadata": {},
   "outputs": [],
   "source": [
    "data(\"AirPassengers\")\n",
    "ap = AirPassengers"
   ]
  },
  {
   "cell_type": "code",
   "execution_count": null,
   "metadata": {},
   "outputs": [],
   "source": [
    "summary(ap)"
   ]
  },
  {
   "cell_type": "code",
   "execution_count": null,
   "metadata": {},
   "outputs": [],
   "source": [
    "start(ap)"
   ]
  },
  {
   "cell_type": "code",
   "execution_count": null,
   "metadata": {},
   "outputs": [],
   "source": [
    "end(ap)"
   ]
  },
  {
   "cell_type": "code",
   "execution_count": null,
   "metadata": {},
   "outputs": [],
   "source": [
    "frequency(ap)"
   ]
  },
  {
   "cell_type": "markdown",
   "metadata": {},
   "source": [
    "Časové rady si môžete priamo vykresliť pomocou funkcie plot:"
   ]
  },
  {
   "cell_type": "code",
   "execution_count": null,
   "metadata": {},
   "outputs": [],
   "source": [
    "plot(ap, type=\"o\")"
   ]
  },
  {
   "cell_type": "markdown",
   "metadata": {},
   "source": [
    "Pomocou funkcie `window` je možné vybrať podmnožinu časového radu resp. zmeniť\n",
    "vzorkovaciu frekvenciu, napr. ak chceme vybrať hodnoty iba za rok 1950 (od januára do\n",
    "decembra) môžeme zadať:"
   ]
  },
  {
   "cell_type": "code",
   "execution_count": null,
   "metadata": {},
   "outputs": [],
   "source": [
    "window(ap, start=c(1950,1), end=c(1950,12))"
   ]
  },
  {
   "cell_type": "markdown",
   "metadata": {},
   "source": [
    "<br/><br/>\n",
    "\n",
    "### Použitie funkcii nad dátami"
   ]
  },
  {
   "cell_type": "markdown",
   "metadata": {},
   "source": [
    "Dáta za jednotlivé roky (hlavné časové jednotky) je možné agregovať pomocou funkcie\n",
    "`aggregate`, napr. priemerné hodnoty za rok je možné vypočítať ako:"
   ]
  },
  {
   "cell_type": "code",
   "execution_count": null,
   "metadata": {},
   "outputs": [],
   "source": [
    "print(aggregate(ap, FUN=mean))"
   ]
  },
  {
   "cell_type": "markdown",
   "metadata": {},
   "source": [
    "Dáta je možné agregovať aj s inou frekvenciou, napr. sumu za pol roka (1/2 hlavnej jednotky)\n",
    "a za štvrť rok (1/4 hlavnej jednotky) môžete vypočítať ako: "
   ]
  },
  {
   "cell_type": "code",
   "execution_count": null,
   "metadata": {},
   "outputs": [],
   "source": [
    "aggregate(ap, FUN=sum, nfrequency=2)\n",
    "aggregate(ap, FUN=sum, nfrequency=4)"
   ]
  },
  {
   "cell_type": "markdown",
   "metadata": {},
   "source": [
    "Všetky hodnoty je možné agregovať priamo, napr. priemer môžeme určiť funkciou mean:"
   ]
  },
  {
   "cell_type": "code",
   "execution_count": null,
   "metadata": {},
   "outputs": [],
   "source": [
    "mean(ap)"
   ]
  },
  {
   "cell_type": "markdown",
   "metadata": {},
   "source": [
    "<br/><br/>\n",
    "#### Možnosti vytvorenia časových radov"
   ]
  },
  {
   "cell_type": "markdown",
   "metadata": {},
   "source": [
    "1. Objekt časového radu je možné vytvoriť aj z vektora číselných hodnôt. Napr. pre priebeh\n",
    "funkcie `0.25sin(10x) + 0.5x + 1` na intervale 0 az 5 s krokom 0.1:"
   ]
  },
  {
   "cell_type": "code",
   "execution_count": null,
   "metadata": {},
   "outputs": [],
   "source": [
    "x = seq(from=0, to=5, by=0.1)\n",
    "y = 0.25*sin(10*x) + 0.5*x + 1"
   ]
  },
  {
   "cell_type": "markdown",
   "metadata": {},
   "source": [
    "Objekt vytvoríme funkciou `ts`, kde nastavíme počiatočný čas a frekvenciu vzorkovania, napr.:"
   ]
  },
  {
   "cell_type": "code",
   "execution_count": null,
   "metadata": {},
   "outputs": [],
   "source": [
    "t = ts(y, start=c(2017,1), frequency=12)\n",
    "plot(t)"
   ]
  },
  {
   "cell_type": "markdown",
   "metadata": {},
   "source": [
    "2. Pomocou funkcie ts môžeme vytvoriť časový rad aj z tabuľkových dát. Dáta môžeme stiahnuť\n",
    "priamo z internetu, napr. nasledujúci súbor Maine.dat udáva mesačnú mieru nezamestnanosti\n",
    "v štáte Maine za obdobie 1996 do 2006:"
   ]
  },
  {
   "cell_type": "code",
   "execution_count": null,
   "metadata": {},
   "outputs": [],
   "source": [
    "data = read.table(\"http://peter.butka.website.tuke.sk/ie/Maine.txt\", header=TRUE)\n",
    "data"
   ]
  },
  {
   "cell_type": "code",
   "execution_count": null,
   "metadata": {},
   "outputs": [],
   "source": [
    "maine = ts(data, start=c(1996,1), frequency=12)\n",
    "maine"
   ]
  },
  {
   "cell_type": "markdown",
   "metadata": {},
   "source": [
    "<br/><br/>\n",
    "## <span style=\"color:green\"> **Základné charakteristiky časových radov** </span>"
   ]
  },
  {
   "cell_type": "markdown",
   "metadata": {},
   "source": [
    "Z priebehu dát `AirPassengers` vidno, že sa počet pasažierov postupne systematicky zvyšuje,\n",
    "tzn. dáta majú rastúci **trend**. Okrem trendu vidno cyklické zmeny, ktoré sa periodicky opakujú\n",
    "– ide o tzv. **sezónnosť**. Časové rady môžeme modelovať rôznou kombináciou trendu `t`,\n",
    "sezónnosti `s` a **náhodnej zložky** `z`. Najjednoduchším modelom je **aditívny model**, kde sa\n",
    "hodnoty radu rovnajú súčtu zložiek: `x = t + s + z`. Medzi ďalšie modely patrí napr.\n",
    "**multiplikatívny model**: `x = t.s.z`.\n",
    "\n",
    "Najjednoduchší spôsob extrahovania **trendu** je pomocou **centrovaného kĺzavého priemeru**\n",
    "v okolí každej hodnoty `xt`, ktorý je možné vypočítať pomocou funkcie `filter`. Centrovaný\n",
    "kĺzavý priemer je vážený priemer, kde prvá a posledná hodnota má váhu 1/2, tzn. napr. pre 12\n",
    "mesiacov sú váhy `(0.5,1,1,1,1,1,1,1,1,1,1,0.5)/12`:"
   ]
  },
  {
   "cell_type": "code",
   "execution_count": null,
   "metadata": {},
   "outputs": [],
   "source": [
    "ap.t = filter(ap, c(0.5,1,1,1,1,1,1,1,1,1,1,0.5)/12)\n",
    "plot(ap.t)"
   ]
  },
  {
   "cell_type": "markdown",
   "metadata": {},
   "source": [
    "Pre aditívny model je možné zvyšné zložky extrahovať odpočítaním od pôvodného radu:"
   ]
  },
  {
   "cell_type": "code",
   "execution_count": null,
   "metadata": {},
   "outputs": [],
   "source": [
    "ap.sz = ap - ap.t\n",
    "plot(ap.sz)"
   ]
  },
  {
   "cell_type": "markdown",
   "metadata": {},
   "source": [
    "Z priebehu vidno, že sa cyklické zložky postupne zvyšujú, čo môže indikovať, že je pre tieto\n",
    "dáta vhodnejší multiplikatívny model. Všetky zložky časového radu pre rôzne typy modelov\n",
    "je možné vypočítať pomocou funkcie `decompose`, napr. pre **multiplikatívny model**:"
   ]
  },
  {
   "cell_type": "code",
   "execution_count": null,
   "metadata": {},
   "outputs": [],
   "source": [
    "ap.decomp = decompose(ap, type=\"multiplicative\")\n",
    "plot(ap.decomp)"
   ]
  },
  {
   "cell_type": "markdown",
   "metadata": {},
   "source": [
    "Jednotlivé zložky modelu sú dostupné vo vlastnostiach `seasonal`, `trend` a `random`. Napr.\n",
    "nasledujúci príkaz vypočíta základné štatistiky pre **sezónnu zložku**:"
   ]
  },
  {
   "cell_type": "code",
   "execution_count": null,
   "metadata": {},
   "outputs": [],
   "source": [
    "summary(ap.decomp$seasonal) "
   ]
  },
  {
   "cell_type": "markdown",
   "metadata": {},
   "source": [
    "<br/><br/>\n",
    "### Úlohy"
   ]
  },
  {
   "cell_type": "markdown",
   "metadata": {},
   "source": [
    "**1.** Načítajte súbor http://peter.butka.website.tuke.sk/ie/Maine.txt a vytvorte časový rad pre\n",
    "mesačné dáta od januára 1996. Vykreslite priebeh. Vypočítajte priemernú hodnotu pre\n",
    "prvé tri a posledné tri mesiace v roku 1996. Zistite o koľko % sa tieto priemery\n",
    "odlišujú od priemeru počas celého roku 1996."
   ]
  },
  {
   "cell_type": "code",
   "execution_count": null,
   "metadata": {},
   "outputs": [],
   "source": [
    "maine=read.table(\"http://people.tuke.sk/peter.butka/ie/Maine.dat\")\n",
    "t=ts(maine, start = c(1996,1), frequency = 12)\n",
    "plot(t, type=\"o\")\n",
    "\n",
    "maine96 = window(t, start=c(1996,1), end=c(1996,12))\n",
    "ag_priemer = aggregate(maine96, FUN=mean, nfrequency = 4)\n",
    "celkovy_priemer = mean(maine96)\n",
    "perc_rozdiel = ((ag_priemer - celkovy_priemer)/celkovy_priemer)*100"
   ]
  },
  {
   "cell_type": "markdown",
   "metadata": {},
   "source": [
    "**2.** Pre dátovú množinu `Maine` vypočítajte agregovaný časový rad pre priemerné\n",
    "štvrťročné hodnoty a zobrazte jeho priebeh."
   ]
  },
  {
   "cell_type": "code",
   "execution_count": null,
   "metadata": {},
   "outputs": [],
   "source": [
    "maine=aggregate(t, FUN = mean, nfrequency = 4)\n",
    "plot(maine, type=\"o\")"
   ]
  },
  {
   "cell_type": "markdown",
   "metadata": {},
   "source": [
    "**3.** Načítajte súbor http://peter.butka.website.tuke.sk/ie/CBE.txt . Dáta obsahujú dátovú\n",
    "množinu so stĺpcami určujúcimi mesačnú produkciu čokolády (stĺpec 1), piva (stĺpec 2)\n",
    "a elektrickej energie (stĺpec 3) od roku 1958. Načítajte dáta ako časové rady (pre výber\n",
    "stĺpca môžete použiť zápis CBE[,1], CBE[,2], CBE[,3). Zobrazte všetky tri časové\n",
    "rady v jednom grafe pomocou funkcie `plot` a `cbind`."
   ]
  },
  {
   "cell_type": "code",
   "execution_count": null,
   "metadata": {},
   "outputs": [],
   "source": [
    "CBE=read.table(\"http://peter.butka.website.tuke.sk/ie/CBE.txt\", header = T)\n",
    "CBE\n",
    "choc = ts(CBE[,1], start = c(1958,1), frequency = 12)\n",
    "beer = ts(CBE[,2], start = c(1958,1), frequency = 12)\n",
    "elec = ts(CBE[,3], start = c(1958,1), frequency = 12)\n",
    "\n",
    "plot(cbind(choc,beer,elec))\n",
    "CBE_graf=ts(CBE, start = c(1958,1), frequency = 12)\n",
    "plot(CBE_graf)"
   ]
  },
  {
   "cell_type": "markdown",
   "metadata": {},
   "source": [
    "**4.** Vypočítajte koreláciu medzi produkciou čokolády a piva."
   ]
  },
  {
   "cell_type": "code",
   "execution_count": null,
   "metadata": {},
   "outputs": [],
   "source": [
    "cor(beer,elec)"
   ]
  },
  {
   "cell_type": "markdown",
   "metadata": {},
   "source": [
    "**5.** Na dátovej množine `AirPassengers` postupne aplikujte kĺzavý priemer s šírkou 4\n",
    "mesiace, 6 mesiacov a 12 mesiacov (tzn. váhy pre 4 mesiace budú `(0.5,1,1,0.5)/4`).\n",
    "Vyextrahujte trendovú zložku pre každý filter podľa aditívneho modelu a zobrazte jej\n",
    "priebeh."
   ]
  },
  {
   "cell_type": "code",
   "execution_count": null,
   "metadata": {},
   "outputs": [],
   "source": [
    "ap=AirPassengers\n",
    "ap_4=filter(ap, c(0.5,1,1,0.5)/4)\n",
    "ap_6=filter(ap, c(0.5,1,1,1,1,0.5)/6)\n",
    "ap_12=filter(ap, c(0.5,1,1,1,1,1,1,1,1,1,1,0.5)/12)\n",
    "plot(cbind(ap_4,ap_6,ap_12))"
   ]
  },
  {
   "cell_type": "markdown",
   "metadata": {},
   "source": [
    "**6.** Pomocou funkcie decompose vygenerujte a zobrazte zložky pre aditívny\n",
    "a multiplikatívny model pre dátovú množinu `AirPassangers`"
   ]
  },
  {
   "cell_type": "code",
   "execution_count": null,
   "metadata": {},
   "outputs": [],
   "source": [
    "ap_multi=decompose(ap, c(\"multiplicative\"))\n",
    "plot(ap_multi)\n",
    "ap_addi=decompose(ap, c(\"additive\"))\n",
    "plot(ap_addi)"
   ]
  },
  {
   "cell_type": "markdown",
   "metadata": {},
   "source": [
    "**7.** Na intervale [0,5]s krokom 0.1 vygenerujte priebeh funkcií `y = 0.5x + 1 a z = 0.25sin(10x)`. Vygenerujte rovnako veľký náhodný vektor `n` podľa normálneho\n",
    "rozdelenia s 0 strednou hodnotou a štandardnou odchýlkou 0.5. Vykreslite priebehy\n",
    "funkcií na jednom zloženom grafe pomocou funkcie `plot` a `cbind`."
   ]
  },
  {
   "cell_type": "code",
   "execution_count": null,
   "metadata": {},
   "outputs": [],
   "source": [
    "set.seed(1234)\n",
    "x = seq(from=0, to=5, by=0.1)\n",
    "y = 0.5*x + 1\n",
    "yt = ts(y, start=c(2017,1), frequency=12)\n",
    "\n",
    "z = 0.25*sin(10*x)\n",
    "zt = ts(z, start=c(2017,1), frequency=12)\n",
    "\n",
    "n = rnorm(n = 50, mean = 0, sd = 0.5)\n",
    "nt = ts(n, start=c(2017,1), frequency=12)\n",
    "\n",
    "plot(cbind(yt,zt,nt))"
   ]
  },
  {
   "cell_type": "markdown",
   "metadata": {},
   "source": [
    "**8.** Zo zložiek s predchádzajúceho príkladu vytvorte časový rad s aditívnym modelom `y + z + n`, a multiplikatívnym modelom `y.z.n`."
   ]
  },
  {
   "cell_type": "code",
   "execution_count": null,
   "metadata": {},
   "outputs": [],
   "source": [
    "cr1=yt+zt+nt\n",
    "plot(cr1)\n",
    "cr2=yt*zt*nt\n",
    "plot(cr2)"
   ]
  },
  {
   "cell_type": "markdown",
   "metadata": {},
   "source": [
    "**9.** Dekomponujte časové rady z predchádzajúceho priebehu pomocou funkcie\n",
    "`decompose`. Vytvorte pre oba priebehy obe dekompozície aj pre aditívny aj\n",
    "multiplikatívny model."
   ]
  },
  {
   "cell_type": "code",
   "execution_count": null,
   "metadata": {},
   "outputs": [],
   "source": [
    "decomp11=decompose(cr1, type = \"additive\")\n",
    "plot(decomp11)\n",
    "decomp12=decompose(cr1, type = \"multiplicative\")\n",
    "plot(decomp12)\n",
    "decomp21=decompose(cr2, type = \"additive\")\n",
    "plot(decomp21)\n",
    "decomp22=decompose(cr2, type = \"multiplicative\")\n",
    "plot(decomp22)"
   ]
  },
  {
   "cell_type": "markdown",
   "metadata": {},
   "source": [
    "**10.** Nahraďte lineárny trend logaritmickým `y = log(x + 1)`, vytvorte aditívny\n",
    "a multiplikatívny časový rad a dekomponujte ich zložky"
   ]
  },
  {
   "cell_type": "code",
   "execution_count": null,
   "metadata": {},
   "outputs": [],
   "source": [
    "y2=log(x+1)   # namiesto y\n",
    "\n",
    "y2t=ts(y2, start=c(2017,1), frequency=12)\n",
    "cr1=y2t+zt+nt\n",
    "plot(cr1)\n",
    "\n",
    "cr2=y2t*zt*nt\n",
    "plot(cr2)\n",
    "\n",
    "decomp1_1=decompose(cr1, c(\"multiplicative\"))\n",
    "plot(decomp1_1)\n",
    "decomp1_2=decompose(cr1, c(\"additive\"))\n",
    "plot(decomp1_2)\n",
    "decomp2_1=decompose(cr2, c(\"multiplicative\"))\n",
    "plot(decomp2_1)\n",
    "decomp2_2=decompose(cr2, c(\"additive\"))\n",
    "plot(decomp2_2)"
   ]
  },
  {
   "cell_type": "code",
   "execution_count": null,
   "metadata": {},
   "outputs": [],
   "source": []
  },
  {
   "cell_type": "markdown",
   "metadata": {},
   "source": [
    "# Cvičenie 3 - Lineárna regresia"
   ]
  },
  {
   "cell_type": "markdown",
   "metadata": {},
   "source": [
    "<object data=\"http://people.tuke.sk/viera.maslej.kresnakova/IE/IE/cvicenie3.pdf\" type=\"application/pdf\" width=\"700px\" height=\"700px\">\n",
    "    <embed src=\"http://people.tuke.sk/viera.maslej.kresnakova/IE/IE/cvicenie3.pdf\">\n",
    "        <p> Cvičenie v PDF dostupné: <a href=\"http://people.tuke.sk/viera.maslej.kresnakova/IE/IE/cvicenie3.pdf\">TU!</a></p>\n",
    "    </embed>\n",
    "</object>"
   ]
  },
  {
   "cell_type": "markdown",
   "metadata": {},
   "source": [
    "V `R` môžeme parametre lineárneho modelu vypočítať pomocou funkcie `lm`.\n",
    "\n",
    "Nasledujúci príklad načíta dátovú množinu `Iris`, vyfiltruje iba príklady z triedy `setosa`, a vypočíta lineárny\n",
    "model s jedným **vstupným** atribútom `iris$Sepal.Length` pre **výstupnú** hodnotu `iris$Sepal.Width`"
   ]
  },
  {
   "cell_type": "code",
   "execution_count": null,
   "metadata": {},
   "outputs": [],
   "source": [
    "data(iris)\n",
    "setosa <- iris[iris$Species == \"setosa\", ]\n",
    "attach(setosa)"
   ]
  },
  {
   "cell_type": "code",
   "execution_count": null,
   "metadata": {},
   "outputs": [],
   "source": [
    "sepal_lm <- lm(Sepal.Width ~ Sepal.Length) # y = b0 + b1x1 + b2x2 + b3x3 + ... + bmxm\n",
    "sepal_lm "
   ]
  },
  {
   "cell_type": "code",
   "execution_count": null,
   "metadata": {},
   "outputs": [],
   "source": [
    "plot(Sepal.Length, Sepal.Width)\n",
    "abline(sepal_lm)"
   ]
  },
  {
   "cell_type": "markdown",
   "metadata": {},
   "source": [
    "V príklade je vykreslená regresná priamka, ktorá určuje **predikovanú hodnotu f(x)** . Ďalšie\n",
    "vstupné atribúty je možné pridať do modelu pomocou operátora `+`, napr. `lm(Y ~ X1 + X2 +\n",
    "X3)` je lineárny model, ktorý **predikuje atribút `Y`** na základe troch **vstupných** atribútov `X1`, `X2`\n",
    "a `X3`."
   ]
  },
  {
   "cell_type": "markdown",
   "metadata": {},
   "source": [
    "Pomocou funkcie summary si môžeme vypísať základné štatistiky o rezíduách a parametroch\n",
    "modelu:"
   ]
  },
  {
   "cell_type": "code",
   "execution_count": null,
   "metadata": {},
   "outputs": [],
   "source": [
    "summary(sepal_lm)"
   ]
  },
  {
   "cell_type": "markdown",
   "metadata": {},
   "source": [
    "#### Popis funkcie `summary`"
   ]
  },
  {
   "cell_type": "markdown",
   "metadata": {},
   "source": [
    "Rozdiely medzi predikovanou hodnotu a skutočnou hodnotou `y` sa označujú ako **rezíduá**.\n",
    "V časti `Residuals` sú informácie o základných štatistikách rezíduí. Tieto rozdiely by mali byť\n",
    "v absolútnej hodnote čo najmenšie. Rezíduá pre všetky trénovacie príklady môžete získať\n",
    "pomocou funkcie `residuals`"
   ]
  },
  {
   "cell_type": "code",
   "execution_count": null,
   "metadata": {},
   "outputs": [],
   "source": [
    "residuals(sepal_lm)"
   ]
  },
  {
   "cell_type": "markdown",
   "metadata": {},
   "source": [
    "Celkovú chybu (sumu štvorcov rezíduí – z čoho sa minimalizovanie kvadratickej chybovej\n",
    "funkcie označuje metóda najmenších štvorcov) môžete vypísať funkciou:"
   ]
  },
  {
   "cell_type": "code",
   "execution_count": null,
   "metadata": {},
   "outputs": [],
   "source": [
    "deviance(sepal_lm)"
   ]
  },
  {
   "cell_type": "markdown",
   "metadata": {},
   "source": [
    "##### 2. `Coefficients`"
   ]
  },
  {
   "cell_type": "markdown",
   "metadata": {},
   "source": [
    "V prehľade viete ďalej zistiť hodnoty samotných parametrov v časti `Coefficients`. Parameter\n",
    "$\\beta_0$ sa označuje ako `Intercept`, pretože určuje v ktorom bode bude regresná priamka **pretínať\n",
    "os Y**. Keďže ostatné parametre $\\beta_0 ... \\beta_m $ zodpovedajú jednotlivým **vstupným** atribútom,\n",
    "parametre sú označené názvom zodpovedajúceho atribútu, napr. `Sepal.Length`. \n",
    "\n",
    "To, ako jedôležitý atribút pre výslednú predikciu určuje absolútna veľkosť zodpovedajúceho\n",
    "parametra, ak sa parameter blíži k 0, atribút je možné z modelu vynechať bez toho aby sa\n",
    "výrazne zmenila predikcia. Významnosť atribútov sa testuje štatistickým testom ktorého\n",
    "hypotéza je, že sa zodpovedajúci parameter = 0. Čím menšia je táto pravdepodobnosť, tým\n",
    "dôležitejší je daný atribút (čo je označené vo výpise aj hviezdičkami, *** dôležitý atribút, **\n",
    "stredne dôležitý, atď.)"
   ]
  },
  {
   "cell_type": "markdown",
   "metadata": {},
   "source": [
    "#### Predikcia\n",
    "\n",
    "Ak chcete vypočítať predikovanú hodnotu pre nové vstupné dáta, môžete použiť funkciu\n",
    "`predict`:"
   ]
  },
  {
   "cell_type": "code",
   "execution_count": null,
   "metadata": {},
   "outputs": [],
   "source": [
    "predict(sepal_lm, newdata = data.frame(Sepal.Length=6))"
   ]
  },
  {
   "cell_type": "markdown",
   "metadata": {},
   "source": [
    "Pomocou predikt môžeme vypočítať aj hodnoty pre viac príkladov naraz."
   ]
  },
  {
   "cell_type": "markdown",
   "metadata": {},
   "source": [
    "Podľa variancie vstupných dát vieme pri lineárnej regresii odhadnúť aj varianciu parametrov,\n",
    "ktorá je uvedená ako štandardná odchýlka pri výpise summary pre každý parameter. Keďže\n",
    "parametre sú odhadované iba s určitou varianciou, aj samotná predikcia je len odhad pre\n",
    "ktorý môžeme určiť varianciu v akom rozsahu sa bude predikovaná hodnota\n",
    "najpravdepodobnejšie pohybovať. Tento interval si môžete vypísať pomocou funkcie\n",
    "`predict`:"
   ]
  },
  {
   "cell_type": "code",
   "execution_count": null,
   "metadata": {},
   "outputs": [],
   "source": [
    "predict(sepal_lm, newdata = data.frame(Sepal.Length=6), interval=\"prediction\")"
   ]
  },
  {
   "cell_type": "markdown",
   "metadata": {},
   "source": [
    "Pomocou `predict` je potom možné zobraziť aj intervaly spoľahlivosti pre predikciu (v tomto\n",
    "intervale by sa mala s veľkou pravdepodobnosťou pohybovať skutočná hodnota). \n",
    "\n",
    "Najprv si\n",
    "vygenerujeme vstupné dáta (interval od 4 do 6 s krokom 0.25) a potom vypočítame\n",
    "predikciu aj s intervalom:"
   ]
  },
  {
   "cell_type": "code",
   "execution_count": null,
   "metadata": {},
   "outputs": [],
   "source": [
    "lengths <- seq(from=4, to=6, by=0.25)\n",
    "predictions <- predict(sepal_lm, newdata =data.frame(Sepal.Length=lengths), interval=\"prediction\")"
   ]
  },
  {
   "cell_type": "code",
   "execution_count": null,
   "metadata": {},
   "outputs": [],
   "source": [
    "predictions"
   ]
  },
  {
   "cell_type": "markdown",
   "metadata": {},
   "source": [
    "Hodnoty si zobrazíme v grafe ako interval pomocou horného a spodného ohraničenia:"
   ]
  },
  {
   "cell_type": "code",
   "execution_count": null,
   "metadata": {},
   "outputs": [],
   "source": [
    "plot(Sepal.Length, Sepal.Width)\n",
    "lines(predictions[,1] ~ lengths, col=1)\n",
    "lines(predictions[,2] ~ lengths, col=1, lty=2)\n",
    "lines(predictions[,3] ~ lengths, col=1, lty=2)"
   ]
  },
  {
   "cell_type": "markdown",
   "metadata": {},
   "source": [
    "Všimnite si, že sa pri krajných hodnotách 4 a 6 interval mierne rozširuje (tzn. pre krajné\n",
    "vstupné hodnoty môže byť predikovaná hodnota vypočítaná s väčšou varianciou)."
   ]
  },
  {
   "cell_type": "markdown",
   "metadata": {},
   "source": [
    "# Úlohy"
   ]
  },
  {
   "cell_type": "markdown",
   "metadata": {},
   "source": [
    "1. Načítajte dátovú množinu `Iris`, odfiltrujte príklady z triedy `setosa` a vytvorte lineárny\n",
    "model predikujúci atribút `Petal.Width` pre vstupný atribút `Petal.Length`. Vizualizujte\n",
    "dáta a regresnú priamku"
   ]
  },
  {
   "cell_type": "code",
   "execution_count": null,
   "metadata": {},
   "outputs": [],
   "source": [
    "data(iris)\n",
    "setosa = iris[iris$Species == \"setosa\",]\n",
    "attach(setosa)\n",
    "petal_lm = lm(Petal.Width ~ Petal.Length)\n",
    "abline(petal_lm)"
   ]
  },
  {
   "cell_type": "markdown",
   "metadata": {},
   "source": [
    "2. Vypočítajte celkovú sumu kvadrátov rezíduí modelu z predošlého príkladu a\n",
    "korelačný koeficient medzi vstupným a výstupným atribútom. Zobrazte histogram\n",
    "rezíduí."
   ]
  },
  {
   "cell_type": "code",
   "execution_count": null,
   "metadata": {},
   "outputs": [],
   "source": [
    "deviance(petal_lm)\n",
    "cor(Petal.Width, Petal.Length)\n",
    "hist(residuals(petal_lm))"
   ]
  },
  {
   "cell_type": "markdown",
   "metadata": {},
   "source": [
    "3. Vypočítajte predikciu a interval spoľahlivosti pre trénovacie dáta. Zobrazte graf s\n",
    "dátami, regresnou priamkou a intervalovými hranicami."
   ]
  },
  {
   "cell_type": "code",
   "execution_count": null,
   "metadata": {},
   "outputs": [],
   "source": [
    "petal_lm\n",
    "predict(petal_lm, newdata = data.frame(Petal.Length), interval=\"prediction\") # povodne trenovacie data\n",
    "\n",
    "plot(Petal.Length, Petal.Width)\n",
    "lengths = seq(from=1, to=2, by=0.025)\n",
    "predictions = predict(petal_lm, newdata = data.frame(Petal.Length=lengths), interval=\"prediction\") # nove trenovacie data\n",
    "\n",
    "lines(predictions[,1] ~ lengths, col=1)\n",
    "lines(predictions[,2] ~ lengths, col=1, lty=2)\n",
    "lines(predictions[,3] ~ lengths, col=1, lty=2)\n",
    "\n",
    "detach(setosa)"
   ]
  },
  {
   "cell_type": "markdown",
   "metadata": {},
   "source": [
    "4. Z množiny iris odfiltrujte iba príklady z triedy versicolor, vypočítajte predikciu a\n",
    "intervalové odhady. Zobrazte graf s dátami, regresnou priamkou, a intervalovými\n",
    "hranicami."
   ]
  },
  {
   "cell_type": "code",
   "execution_count": null,
   "metadata": {},
   "outputs": [],
   "source": [
    "data(iris)\n",
    "versicolor = iris[iris$Species == \"versicolor\",]\n",
    "\n",
    "attach(versicolor)\n",
    "petal_ver = lm(Petal.Width ~ Petal.Length)\n",
    "petal_ver\n",
    "predict(petal_ver, newdata = data.frame(Petal.Length),interval=\"prediction\") #povodne trenovacie data \n",
    "\n",
    "plot(Petal.Length, Petal.Width)\n",
    "lengths = seq(from=2, to=6, by=0.025)\n",
    "predictions = predict(petal_ver, newdata = data.frame(Petal.Length=lengths), interval=\"prediction\") #nove trenovacie data\n",
    "\n",
    "lines(predictions[,1] ~ lengths, col=1)\n",
    "lines(predictions[,2] ~ lengths, col=1, lty=2)\n",
    "lines(predictions[,3] ~ lengths, col=1, lty=2)"
   ]
  },
  {
   "cell_type": "markdown",
   "metadata": {},
   "source": [
    "5. Vytvorte rozšírený model, ktorý bude mať okrem `Petal.Length` na vstupe aj atribút\n",
    "`Sepal.Width`. Zistite, ktoré parametre modelu sú štatisticky významné, a porovnajte\n",
    "chybu rozšíreného modelu s predchádzajúcim príkladom."
   ]
  },
  {
   "cell_type": "code",
   "execution_count": null,
   "metadata": {},
   "outputs": [],
   "source": [
    "petal_ver1 = lm(Petal.Width ~ Petal.Length + Sepal.Width)\n",
    "summary(petal_ver1)\n",
    "deviance(petal_ver)\n",
    "deviance(petal_ver1)\n",
    "chyba=deviance(petal_ver)-deviance(petal_ver1)\n",
    "chyba"
   ]
  },
  {
   "cell_type": "markdown",
   "metadata": {},
   "source": [
    "6. Medzi vstupné atribúty môžete pridať aj faktory (nominálne atribúty). Ak má faktor\n",
    "napr. 3 hodnoty, `setosa`, `versicolor` a `virginica`, pri zahrnutí do modelu sa prvá\n",
    "hodnota `setosa` použije ako tzv. referenčná a pre zvyšné hodnoty `versicolor` a\n",
    "`virginica` sa vygenerujú binárne (tzv. kontrastné) atribúty, pre ktoré sa vypočítajú\n",
    "dodatočné parametre modelu. Načítajte celú množinu dát `Iris` a vytvorte model, ktorý\n",
    "bude predikovať `Petal.Width` na základe atribútov `Petal.Length` a `Species`. Zistite,\n",
    "ktoré z kontrastných hodnôt `versicolor`, alebo `virginica` je viac dôležitá pre predikciu."
   ]
  },
  {
   "cell_type": "code",
   "execution_count": null,
   "metadata": {},
   "outputs": [],
   "source": [
    "petal_ver2 = lm(iris$Petal.Width ~ iris$Petal.Length + iris$Species)\n",
    "summary(petal_ver2)"
   ]
  },
  {
   "cell_type": "markdown",
   "metadata": {},
   "source": [
    "7. Vygenerujte si náhodné vektory `X1`, `X2` a `X3` s 50 hodnotami podľa uniformného\n",
    "rozdelenia pravdepodobnosti z intervalu 1 až 10. Vytvorte vektor hodnôt `Y = 0.5 +\n",
    "2*X1 + 1.5 *X2 + X3`. K vektoru Y pripočítajte náhodný šum s normálnym rozdelením s\n",
    "0 strednou hodnotou a štandardnou odchýlkou 0.5. Vypočítajte parametre\n",
    "lineárneho modelu priamo analyticky z výrazu **$(X^TX)^{-1}X^Ty = \\beta $**. Vypočítajte pre každý príklad predikciu a rezíduá."
   ]
  },
  {
   "cell_type": "code",
   "execution_count": null,
   "metadata": {},
   "outputs": [],
   "source": [
    "set.seed(123)\n",
    "x1= runif(50, min=1, max=10)\n",
    "x2= runif(50, min=1, max=10)\n",
    "x3= runif(50, min=1, max=10)\n",
    "\n",
    "y=0.5+2*x1+1.5*x2+x3\n",
    "\n",
    "ssum= rnorm(length(y), mean=0, sd=0.5)\n",
    "\n",
    "y=y+ssum\n",
    "\n",
    "ones=rep(1,50)\n",
    "X=cbind(ones,x1,x2,x3)\n",
    "beta=solve(t(X)%*%X)%*%t(X)%*%y\n",
    "beta\n",
    "\n",
    "X_lm=lm(y~ X)\n",
    "X_lm\n",
    "\n",
    "residuals(X_lm)"
   ]
  },
  {
   "cell_type": "markdown",
   "metadata": {},
   "source": [
    "8. Pridajte do predchádzajúceho modelu atribút `X4`, ktorého hodnoty sú vždy\n",
    "dvojnásobkom atribútu `X1` (tzn. `X4=2*X1`). Vypočítajte znova analyticky parametre\n",
    "modelu (malo by dôjsť k chybe, pre maticu `X` by sa nemala dať vypočítať inverzná\n",
    "matica ak obsahuje lineárne závislé stĺpce). Vypočítajte korelačný koeficient medzi `X1`\n",
    "a `X4`. Odstráňte atribút `X1` a zvona vypočítajte parametre lineárneho modelu,\n",
    "porovnajte vypočítané parametre s predchádzajúcim príkladom."
   ]
  },
  {
   "cell_type": "code",
   "execution_count": null,
   "metadata": {},
   "outputs": [],
   "source": [
    "set.seed(123)\n",
    "x1= runif(50, min=1, max=10)\n",
    "x2= runif(50, min=1, max=10)\n",
    "x3= runif(50, min=1, max=10)\n",
    "x4=2*x1\n",
    "\n",
    "y=0.5+1.5*x2+x3+x4 # povodne y=0.5+2*x1+1.5*x2+x3+x4\n",
    "\n",
    "ssum= rnorm(length(y), mean=0, sd=0.5)\n",
    "\n",
    "y=y+ssum\n",
    "\n",
    "ones=rep(1,50)\n",
    "X=cbind(ones,x2,x3,x4) # povodne X=cbind(ones,x1,x2,x3,x4)\n",
    "beta=solve(t(X)%*%X)%*%t(X)%*%y\n",
    "beta\n",
    "\n",
    "X_lm=lm(y~ X)\n",
    "X_lm\n",
    "\n",
    "residuals(X_lm)\n"
   ]
  },
  {
   "cell_type": "code",
   "execution_count": null,
   "metadata": {},
   "outputs": [],
   "source": []
  },
  {
   "cell_type": "markdown",
   "metadata": {},
   "source": [
    "# Predikcia časových radov"
   ]
  },
  {
   "cell_type": "markdown",
   "metadata": {},
   "source": [
    "<object data=\"http://people.tuke.sk/viera.maslej.kresnakova/IE/IE/cvicenie4.pdf\" type=\"application/pdf\" width=\"700px\" height=\"700px\">\n",
    "    <embed src=\"http://people.tuke.sk/viera.maslej.kresnakova/IE/IE/cvicenie4.pdf\">\n",
    "        <p> Cvičenie v PDF dostupné: <a href=\"http://people.tuke.sk/viera.maslej.kresnakova/IE/IE/cvicenie4.pdf\">TU!</a></p>\n",
    "    </embed>\n",
    "</object>"
   ]
  },
  {
   "cell_type": "markdown",
   "metadata": {},
   "source": [
    "Najprv si nainštalujeme balík dynlm a načítame si dátovú množinu USMacroG, ktorá\n",
    "obsahuje viacero časových radov makroekonomických ukazovateľov USA."
   ]
  },
  {
   "cell_type": "code",
   "execution_count": null,
   "metadata": {},
   "outputs": [],
   "source": [
    "install.packages(\"dynlm\")"
   ]
  },
  {
   "cell_type": "code",
   "execution_count": null,
   "metadata": {},
   "outputs": [],
   "source": [
    "install.packages(\"AER\", repos='http://cran.us.r-project.org')  # after restart kernel"
   ]
  },
  {
   "cell_type": "code",
   "execution_count": null,
   "metadata": {},
   "outputs": [],
   "source": [
    "library(\"dynlm\")"
   ]
  },
  {
   "cell_type": "code",
   "execution_count": null,
   "metadata": {},
   "outputs": [],
   "source": [
    "data(\"USMacroG\", package=\"AER\")"
   ]
  },
  {
   "cell_type": "code",
   "execution_count": null,
   "metadata": {},
   "outputs": [],
   "source": [
    "summary(USMacroG)"
   ]
  },
  {
   "cell_type": "markdown",
   "metadata": {},
   "source": [
    "Zobrazíme si v jednom grafe priebehy príjmov dpi a spotreby consumption:"
   ]
  },
  {
   "cell_type": "code",
   "execution_count": null,
   "metadata": {},
   "outputs": [],
   "source": [
    "ts.plot(USMacroG[, c(\"dpi\", \"consumption\")], lty=c(3,1))"
   ]
  },
  {
   "cell_type": "markdown",
   "metadata": {},
   "source": [
    "\n",
    "Aby sme zistili či je vhodné modelovať časový rad lineárnym modelom, môžeme si vypočítať\n",
    "autokorelačné koeficienty, tzn. koreláciu medzi hodnotami $y_t$ a $y_{t-1}$, $y_t$ a $y_{t-2}$ atď. Pre\n",
    "výpočet a zobrazenie môžeme použiť funkciu `acf`, napr. zobrazíme autokorelačné koeficienty\n",
    "pre časový rad `dpi` s maximálnym oneskorením 4:\n"
   ]
  },
  {
   "cell_type": "code",
   "execution_count": null,
   "metadata": {},
   "outputs": [],
   "source": [
    "dpi = USMacroG[,\"dpi\"]\n",
    "autocorr = acf(dpi, lag.max=4)"
   ]
  },
  {
   "cell_type": "markdown",
   "metadata": {},
   "source": [
    "Môžeme si zobraziť aj závislosť medzi $y$ a $y_{t-k}$ kde k je oneskorenie, napr. ak si chceme\n",
    "zobraziť závislosť medzi $y_t$ a $y_{t-1}$, najprv si prevedieme časovú postupnosť na vektor\n",
    "funkciou `as.numeric` a potom si vyberieme prvky od `[1:N-1]` a `[2:N]` kde `N` je dĺžka vektora\n",
    "(počet hodnôt v časovom rade):"
   ]
  },
  {
   "cell_type": "code",
   "execution_count": null,
   "metadata": {},
   "outputs": [],
   "source": [
    "dpi = as.numeric(dpi)\n",
    "plot(dpi[1:length(dpi)-1], dpi[2:length(dpi)])\n",
    "cor(dpi[1:length(dpi)-1], dpi[2:length(dpi)])"
   ]
  },
  {
   "cell_type": "markdown",
   "metadata": {},
   "source": [
    "Ak porovnáme hodnotu korelácie z posledného výpisu s výstupom autokorelačnej funkcie\n",
    "acf pre oneskorenie 1 (`autocorr[1]`) zistíme, že sa odlišujú pričom by malo ísť o koreláciu\n",
    "medzi rovnakými hodnotami. Rozdiel je spôsobený odlišnou normalizáciou pri výpočte\n",
    "korelačného koeficientu, `acf` hodnota je normovaná `1/N` a cor `1/(N-1)`."
   ]
  },
  {
   "cell_type": "markdown",
   "metadata": {},
   "source": [
    "Vytvoríme model ktorý bude predikovať spotrebu v čase `t` na základe aktuálnej hodnoty\n",
    "príjmov `dpi` a predchádzajúcej spotreby v čase `t-1`:"
   ]
  },
  {
   "cell_type": "code",
   "execution_count": null,
   "metadata": {},
   "outputs": [],
   "source": [
    "cons_lm1 <- dynlm(consumption ~ dpi + L(consumption), data=USMacroG)"
   ]
  },
  {
   "cell_type": "markdown",
   "metadata": {},
   "source": [
    "Výsledný objekt je podobného typu ako pri lineárnej regresii, tzn. funkcia `summary` napr.\n",
    "zobrazí hodnoty vypočítaných koeficientov a ich významnosť pre predikciu a základné\n",
    "štatistiky o rezíduách. Podobne môžete vypočítať kvadratickú chybu na trénovacích dátach\n",
    "funkciou `deviance`."
   ]
  },
  {
   "cell_type": "code",
   "execution_count": null,
   "metadata": {},
   "outputs": [],
   "source": [
    "summary(cons_lm1)"
   ]
  },
  {
   "cell_type": "code",
   "execution_count": null,
   "metadata": {},
   "outputs": [],
   "source": [
    "deviance(cons_lm1)"
   ]
  },
  {
   "cell_type": "markdown",
   "metadata": {},
   "source": [
    "Predikované hodnoty pre celý časový rad si môžeme vypočítať funkciou `fitted`:"
   ]
  },
  {
   "cell_type": "code",
   "execution_count": null,
   "metadata": {},
   "outputs": [],
   "source": [
    "fitted(cons_lm1)"
   ]
  },
  {
   "cell_type": "markdown",
   "metadata": {},
   "source": [
    "Aby sme vyhodnotili presnosť a kvalitu modelu, môžeme si zobraziť časový priebeh a\n",
    "predikované hodnoty v jednom grafe. Tak isto je užitočné si zobraziť v čase aj hodnoty\n",
    "rezíduí, ktoré sa dajú vypočítať funkciou `residuals`:"
   ]
  },
  {
   "cell_type": "code",
   "execution_count": null,
   "metadata": {},
   "outputs": [],
   "source": [
    "ts.plot(USMacroG[,\"consumption\"], fitted(cons_lm1),\n",
    "lty=c(1:2))\n",
    "ts.plot(residuals(cons_lm1))"
   ]
  },
  {
   "cell_type": "markdown",
   "metadata": {},
   "source": [
    "# Úlohy na cvičení"
   ]
  },
  {
   "cell_type": "markdown",
   "metadata": {},
   "source": [
    "1. Načítajte dáta `USMacroG`. Pre časový rad consumption vypočítajte a zobrazte\n",
    "pomocou funkcie `acf` autokorelačné koeficienty až do oneskorenia 10."
   ]
  },
  {
   "cell_type": "code",
   "execution_count": null,
   "metadata": {},
   "outputs": [],
   "source": [
    "# nacitaj data\n",
    "library(\"dynlm\")\n",
    "data(\"USMacroG\", package=\"AER\")\n",
    "consumption = USMacroG[,\"consumption\"]\n",
    "\n",
    "# vypocitaj a zobraz autokorelacne koeficient s max. oneskorenim = 10\n",
    "autocorr = acf(consumption, lag.max = 10)"
   ]
  },
  {
   "cell_type": "markdown",
   "metadata": {},
   "source": [
    "2. Pre časový rad consumption si vytvorte dátovú množinu zloženú z oneskorených\n",
    "atribútoch v čase `t`, `t-1`, `t-2`, `t-3`, `t-4` a `t-5`. Pomocou funkcie `cor` vypočítajte korelačnú\n",
    "maticu pre všetky atribúty. Zistite s ktorým atribútom je najviac korelovaný atribút `t-2`, `t-3` a `t-4`, a zobrazte závislosti medzi `t-2`, `t-3` a `t-4` a najviac korelovanými atribútmi."
   ]
  },
  {
   "cell_type": "code",
   "execution_count": null,
   "metadata": {},
   "outputs": [],
   "source": [
    "# zmen datovy typ premennej consumption\n",
    "cons_numeric = as.numeric(consumption)\n",
    "length(cons_numeric)\n",
    "\n",
    "# vytvor oneskorene atributy v case t, t-1, ... t-5\n",
    "cons0 = cons_numeric[1:(length(cons_numeric)-5)]\n",
    "cons1 = cons_numeric[2:(length(cons_numeric)-4)]\n",
    "cons2 = cons_numeric[3:(length(cons_numeric)-3)]\n",
    "cons3 = cons_numeric[4:(length(cons_numeric)-2)]\n",
    "cons4 = cons_numeric[5:(length(cons_numeric)-1)]\n",
    "cons5 = cons_numeric[6:length(cons_numeric)]\n",
    "\n",
    "# vytvor datovu mnozinu - dataframe - zlozenu z predch. atributov a urob korelacnu maticu\n",
    "df_cor = data.frame(cons0, cons1, cons2, cons3, cons4, cons5)\n",
    "cor(df_cor)\n",
    "\n",
    "# vykresli zavislost medzi najviac korelovanymi atributmi\n",
    "plot(cons2, cons3)\n",
    "plot(cons3, cons4)\n",
    "plot(cons4, cons5)"
   ]
  },
  {
   "cell_type": "markdown",
   "metadata": {},
   "source": [
    "3. Pomocou funkcie cor vypočítajte korelačný koeficient medzi hodnotami časového\n",
    "radu `consumtion` a všetkými ostatnými ukazovateľmi v dátovej množine `USMacroG`.\n",
    "Vyberte dva ukazovatele, ktoré sú s `consumption` najviac korelované. Vytvorte\n",
    "prediktívny model, ktorý predikuje $consumption_t$ na základe týchto dvoch atribútov\n",
    "oneskorených o `t-1`."
   ]
  },
  {
   "cell_type": "code",
   "execution_count": null,
   "metadata": {},
   "outputs": [],
   "source": [
    "# vytvor korelacnu maticu medzi vsetkymi ukazovatelmi z nasich dat\n",
    "# z matice vycitas, ze najviac korelovane s \"consumption\" su \"gdp\" a \"dpi\"\n",
    "cor(USMacroG)\n",
    "\n",
    "# prirad si do premennych potrebne atributy (zjednodusenie naslednej prace)\n",
    "gdp = USMacroG[,\"gdp\"]\n",
    "dpi = USMacroG[,\"dpi\"]\n",
    "\n",
    "# vytvor model, ktory predikuje \"consumption\" na zaklade \"gdp\" a \"dpi\" oneskorenych o t-1\n",
    "cons_lm1 = dynlm(consumption ~ L(gdp,1) + L(dpi,1))\n",
    "cons_lm1"
   ]
  },
  {
   "cell_type": "markdown",
   "metadata": {},
   "source": [
    "4. Zobrazte priebeh radu `consumption` a predikcie modelu z predchádzajúceho príkladu.\n",
    "Vypočítajte rezíduá a zobrazte priebeh rezíduí."
   ]
  },
  {
   "cell_type": "code",
   "execution_count": null,
   "metadata": {},
   "outputs": [],
   "source": [
    "# zobraz priebeh radu \"consumption\" a predikcie modelu z predch. prikladu\n",
    "ts.plot(consumption, fitted(cons_lm1), lty=c(1:2))\n",
    "\n",
    "# vypocitaj a zobraz priebeh rezidui tohto modelu\n",
    "ts.plot(residuals(cons_lm1))"
   ]
  },
  {
   "cell_type": "markdown",
   "metadata": {},
   "source": [
    "5. Vytvorte autokorelačné prediktívne modely  \n",
    "\n",
    "    $consumption_t = \\beta_0 + \\beta_1 dpi_t + \\beta_2 dpi_{t-1}$ \n",
    "\n",
    "    a\n",
    "\n",
    "    $consumption_t = \\beta_0 + \\beta_1 dpi_t + \\beta_2 dpi_{t-1} + \\beta_3 consumption_{t-1}$ \n",
    "\n",
    "    a \n",
    "\n",
    "    $consumption_t = \\beta_{0} + \\beta_1 dpi_t + \\beta_2 consumption_{t-1}$. \n",
    "\n",
    "    Na jednom grafe zobrazte priebeh časového radu consumption a predikcie všetkých troch modelov."
   ]
  },
  {
   "cell_type": "code",
   "execution_count": null,
   "metadata": {},
   "outputs": [],
   "source": [
    "# vytvor autokorelacne modely podla zadania\n",
    "cons_lm2 = dynlm(consumption ~ dpi + L(dpi,1))\n",
    "cons_lm2\n",
    "cons_lm3 = dynlm(consumption ~ dpi + L(dpi,1) + L(consumption,1))\n",
    "cons_lm3\n",
    "cons_lm4 = dynlm(consumption ~ dpi + L(consumption,1))\n",
    "\n",
    "# zobraz priebeh \"consumption\" a predikcii vs. troch vytvorenych modelov\n",
    "ts.plot(consumption, fitted(cons_lm2), fitted(cons_lm3), fitted(cons_lm4), lty=c(1:4))"
   ]
  },
  {
   "cell_type": "markdown",
   "metadata": {},
   "source": [
    "6. Vyhodnoťte presnosť modelov pomocou funkcie `deviance`. Zistite, ktorý model je\n",
    "najlepší a zistite, ktorý vstupný atribút je najdôležitejší pre tento model. Zobrazte X-Y\n",
    "závislosť medzi `consumption` a najdôležitejším atribútom."
   ]
  },
  {
   "cell_type": "code",
   "execution_count": null,
   "metadata": {},
   "outputs": [],
   "source": [
    "# vyhodnot presnost nasich doterajsich 4 modelov\n",
    "deviance(cons_lm1)\n",
    "deviance(cons_lm2)\n",
    "deviance(cons_lm3)\n",
    "deviance(cons_lm4)\n",
    "\n",
    "# najlepsi je model \"cons_lm3\"\n",
    "# zisti, ktory vstupny atribut tohto modelu je najdolezitejsi\n",
    "summary(cons_lm3)\n",
    "\n",
    "# najdolezitejsi je atribut \"consumption\" s casovym oneskorenim t-1\n",
    "# zobraz zavislost medzi \"consumption\" a \"consumption (t-1)\"\n",
    "plot(consumption[1:length(consumption)-1], consumption[2:length(consumption)])"
   ]
  },
  {
   "cell_type": "markdown",
   "metadata": {},
   "source": [
    "7. Zobrazte časový priebeh rezíduí a histogram rezíduí pre model $consumption_t = \\beta_0 +\n",
    "\\beta_1 dpi_t + \\beta_2 dpi_{t-1} + \\beta_3 consumption_{t-1}.$"
   ]
  },
  {
   "cell_type": "code",
   "execution_count": null,
   "metadata": {},
   "outputs": [],
   "source": [
    "# vytvor model podla zadania\n",
    "# je to ten isty model ako \"cons_lm3\"\n",
    "cons_lm5 = dynlm(consumption ~ dpi + L(dpi) + L(consumption)) # ako cons_lm3\n",
    "\n",
    "# zobraz priebeh reziduii tohto modelu\n",
    "ts.plot(residuals(cons_lm5))\n",
    "\n",
    "# zobraz histogram rezidui tohto modelu\n",
    "hist(residuals(cons_lm5))"
   ]
  },
  {
   "cell_type": "markdown",
   "metadata": {},
   "source": [
    "8. Načítajte dáta `AirPassengers`. Pomocou funkcie acf zobrazte autokorelačný graf.\n",
    "    Všimnite si ako sa mení hodnota autokorelačných koeficientov pri časových radoch s\n",
    "    cyklickou zložkou. Vytvorte autoregresný model \n",
    "\n",
    "    $y_t = \\beta_0 + \\beta_1(y_{t−1} − y_{t−2}) + \\beta_2 y_{t−4}$. \n",
    "\n",
    "    Dekomponujte časový priebeh AirPassengers na aditívne zložky pomocou funkcie `dec = decompose(AirPassengers)`. Vyberte z priebehu iba zložku trendu `dec$trend` a vytvorte autoregresný model \n",
    "\n",
    "    $y_t = \\beta_0 + \\beta_1(y_{t−1} − y_{t−2}) + \\beta_2 y_{t−4} $\n",
    "   \n",
    "    pre časový priebeh trendu. Vypočítajte predikciu modelu funkciou `fitted` a pripočítajte k\n",
    "    nej sezónnu zložku `dec$seasonal`. Výsledný časový rad zobrazte v jednom grafe spolu\n",
    "    s priebehom `AirPassengers` a predikciou predchádzajúceho modelu"
   ]
  },
  {
   "cell_type": "code",
   "execution_count": null,
   "metadata": {},
   "outputs": [],
   "source": [
    "# nacitaj nove data\n",
    "data(\"AirPassengers\")\n",
    "\n",
    "# zobraz autokorelacny graf\n",
    "autocorr_air = acf(AirPassengers)\n",
    "\n",
    "# vytvor autoregresny model podla zadania a vypocitaj jeho predikciu\n",
    "lm1 = dynlm(AirPassengers ~ (L(d(AirPassengers),1)) + L(AirPassengers,4))\n",
    "predicted_airPassengers = fitted(lm1)\n",
    "\n",
    "# dekomponuj priebeh AirPassengers a prirad trendovu zlozku do novej premennej\n",
    "dec = decompose(AirPassengers, type = \"additive\")\n",
    "dec_trend = dec$trend\n",
    "\n",
    "# vytvor autoregresny model pre trendovu zlozku a vypocitaj jeho predikciu\n",
    "lm2 = dynlm(dec_trend ~ (L(d(trend),1)) + L(dec_trend,4))\n",
    "predicted_trend = fitted(lm2)\n",
    "\n",
    "# scitaj ziskanu sezonnu zlozku s predikovanou trendovou zlozkou\n",
    "trend_seasonal = predicted_trend + dec$seasonal\n",
    "\n",
    "# vykresli casove rady\n",
    "ts.plot(AirPassengers, predicted_airPassengers, trend_seasonal, gpars = list(col = c(\"black\", \"red\", \"green\")))"
   ]
  },
  {
   "cell_type": "code",
   "execution_count": 1,
   "metadata": {},
   "outputs": [
    {
     "ename": "ERROR",
     "evalue": "Error in parse(text = x, srcfile = src): <text>:1:5: unexpected symbol\n1: pip install\n        ^\n",
     "output_type": "error",
     "traceback": [
      "Error in parse(text = x, srcfile = src): <text>:1:5: unexpected symbol\n1: pip install\n        ^\nTraceback:\n"
     ]
    }
   ],
   "source": [
    "pip install nbmerge"
   ]
  },
  {
   "cell_type": "markdown",
   "metadata": {},
   "source": [
    "# Cvičenie 5"
   ]
  },
  {
   "cell_type": "markdown",
   "metadata": {},
   "source": [
    "<object data=\"http://people.tuke.sk/viera.maslej.kresnakova/IE/IE/cvicenie5.pdf\" type=\"application/pdf\" width=\"700px\" height=\"700px\">\n",
    "    <embed src=\"http://people.tuke.sk/viera.maslej.kresnakova/IE/IE/cvicenie5.pdf\">\n",
    "        <p> Cvičenie v PDF dostupné: <a href=\"http://people.tuke.sk/viera.maslej.kresnakova/IE/IE/cvicenie5.pdf\">TU!</a></p>\n",
    "    </embed>\n",
    "</object>"
   ]
  },
  {
   "cell_type": "markdown",
   "metadata": {},
   "source": [
    "## Almonovej model"
   ]
  },
  {
   "cell_type": "markdown",
   "metadata": {},
   "source": [
    "Ako prvé potrebujeme pero a papier :)"
   ]
  },
  {
   "cell_type": "markdown",
   "metadata": {},
   "source": [
    "Načítame si dáta USMacroG a vytvoríme model pre predikovanie dpi podľa atribútu\n",
    "consumption s časovým oknom M=3 a veľkosťou polynómu K=2. Najprv skonvertujeme\n",
    "časové rady na číselné vektory."
   ]
  },
  {
   "cell_type": "code",
   "execution_count": null,
   "metadata": {},
   "outputs": [],
   "source": [
    "install.packages(\"AER\", repos='http://cran.us.r-project.org')  # after restart kernel"
   ]
  },
  {
   "cell_type": "code",
   "execution_count": null,
   "metadata": {},
   "outputs": [],
   "source": [
    "data(\"USMacroG\", package=\"AER\")"
   ]
  },
  {
   "cell_type": "code",
   "execution_count": null,
   "metadata": {},
   "outputs": [],
   "source": [
    "y = as.numeric(USMacroG[,\"dpi\"])\n",
    "x = as.numeric(USMacroG[,\"consumption\"])"
   ]
  },
  {
   "cell_type": "markdown",
   "metadata": {},
   "source": [
    "Vytvoríme si vektory pre posunuté atribúty $x_t$, $x_{t-1}$, $x_{t-2}$, $x_{t-3}$ a $y_t$:"
   ]
  },
  {
   "cell_type": "code",
   "execution_count": null,
   "metadata": {},
   "outputs": [],
   "source": [
    "N = length(x)\n",
    "x_t3 = x[1:(N-3)]\n",
    "x_t2 = x[2:(N-2)]\n",
    "x_t1 = x[3:(N-1)]\n",
    "x_t = x[4:N]\n",
    "y_t = y[4:N]"
   ]
  },
  {
   "cell_type": "markdown",
   "metadata": {},
   "source": [
    "Vypočítame si transformované atribúty $z_0$, $z_1$, $z_2$:"
   ]
  },
  {
   "cell_type": "code",
   "execution_count": null,
   "metadata": {},
   "outputs": [],
   "source": [
    "z0 = x_t + x_t1 + x_t2 + x_t3\n",
    "z1 = x_t1 + (2*x_t2) + (3*x_t3)\n",
    "z2 = x_t1 + (4*x_t2) + (9*x_t3)"
   ]
  },
  {
   "cell_type": "markdown",
   "metadata": {},
   "source": [
    "Pomocou funkcie lm si vypočítame parametre $a_0$, $a_1$, $a_2$. Pre model bez posunu je potrebné\n",
    "vo výraze `lm` zadať medzi závislé parametre 0."
   ]
  },
  {
   "cell_type": "code",
   "execution_count": null,
   "metadata": {},
   "outputs": [],
   "source": [
    "td = data.frame(y_t, z0, z1, z2)\n",
    "td_lm = lm(y_t ~ 0 + z0 + z1 + z2, td)\n",
    "td_lm\n",
    "alfa = as.numeric(coefficients(td_lm))\n",
    "alfa"
   ]
  },
  {
   "cell_type": "markdown",
   "metadata": {},
   "source": [
    "Z parametrov $a_0$, $a_1$, $a_2$ spätne vypočítame $\\beta_0$, $\\beta_1$, $\\beta_2$, $\\beta_3$:"
   ]
  },
  {
   "cell_type": "code",
   "execution_count": null,
   "metadata": {},
   "outputs": [],
   "source": [
    "beta0 = alfa[1]\n",
    "beta1 = alfa[1] + alfa[2] + alfa[3]\n",
    "beta2 = alfa[1] + 2*alfa[2] + 4*alfa[3]\n",
    "beta3 = alfa[1] + 3*alfa[2] + 9*alfa[3]\n",
    "beta0\n",
    "beta1\n",
    "beta2\n",
    "beta3"
   ]
  },
  {
   "cell_type": "markdown",
   "metadata": {},
   "source": [
    "## Koyckov model"
   ]
  },
  {
   "cell_type": "code",
   "execution_count": null,
   "metadata": {},
   "outputs": [],
   "source": [
    "install.packages(\"dynlm\")"
   ]
  },
  {
   "cell_type": "code",
   "execution_count": null,
   "metadata": {},
   "outputs": [],
   "source": [
    "library(\"dynlm\")"
   ]
  },
  {
   "cell_type": "code",
   "execution_count": null,
   "metadata": {},
   "outputs": [],
   "source": [
    "model = dynlm(dpi ~ consumption + L(dpi,1), USMacroG)\n",
    "model"
   ]
  },
  {
   "cell_type": "markdown",
   "metadata": {},
   "source": [
    "# Úlohy"
   ]
  },
  {
   "cell_type": "markdown",
   "metadata": {},
   "source": [
    "1. Vytvorte Almonovej model s časovým oknom M=5 a polynómom stupňa K=3 pre\n",
    "predikovanie časového radu `dpi` na základe radu `consumption`. Vypočítajte\n",
    "predikciu modelu na trénovacích dátach a zobrazte skutočnú hodnotu `dpi` a\n",
    "predikovanú hodnotu na spoločnom grafe."
   ]
  },
  {
   "cell_type": "code",
   "execution_count": null,
   "metadata": {},
   "outputs": [],
   "source": [
    "dpi=USMacroG[,\"dpi\"]\n",
    "cons=USMacroG[,\"consumption\"]\n",
    "\n",
    "y = as.numeric(dpi)\n",
    "x = as.numeric(cons)\n",
    "\n",
    "N = length(x)\n",
    "x_t5 = x[1:(N-5)]\n",
    "x_t4 = x[2:(N-4)]\n",
    "x_t3 = x[3:(N-3)]\n",
    "x_t2 = x[4:(N-2)]\n",
    "x_t1 = x[5:(N-1)]\n",
    "x_t = x[6:N]\n",
    "y_t = y[6:N]\n",
    "\n",
    "z0 = x_t + x_t1 + x_t2 + x_t3 + x_t4 +x_t5\n",
    "z1 = x_t1 + (2*x_t2) + (3*x_t3) + (4*x_t4) + (5*x_t5)\n",
    "z2 = x_t1 + (4*x_t2) + (9*x_t3) + (16*x_t4) + (25*x_t5)\n",
    "z3 = x_t1 + (8*x_t2) + (27*x_t3) + (64*x_t4) + (125*x_t5)\n",
    "\n",
    "td = data.frame(y_t, z0, z1, z2, z3)\n",
    "td_lm = lm(y_t ~ 0 + z0 + z1 + z2 +z3, td)\n",
    "alfa = as.numeric(coefficients(td_lm))\n",
    "\n",
    "beta0 = alfa[1]\n",
    "beta1 = alfa[1] + alfa[2] + alfa[3] + alfa[4]\n",
    "beta2 = alfa[1] + 2*alfa[2] + 4*alfa[3] + 8*alfa[4]\n",
    "beta3 = alfa[1] + 3*alfa[2] + 9*alfa[3] + 27*alfa[4]\n",
    "beta4 = alfa[1] + 4*alfa[2] + 16*alfa[3] + 64*alfa[4]\n",
    "beta5 = alfa[1] + 5*alfa[2] + 25*alfa[3] + 125*alfa[4]\n",
    "\n",
    "ts.plot(dpi[6:204],as.ts(fitted(td_lm)),lty=c(1:2))\n",
    "\n",
    "length(dpi)\n",
    "length(fitted(td_lm))"
   ]
  },
  {
   "cell_type": "markdown",
   "metadata": {},
   "source": [
    "2. Vypočítajte korelačnú maticu medzi atribútmi $x_t$, $x_{t-1}$, $x_{t-2}$, $x_{t-3}$, $x_{t-4}$, $x_{t-5}$ z\n",
    "predchádzajúceho príkladu a vyhodnoťte, ktoré dvojice sú silno korelované."
   ]
  },
  {
   "cell_type": "code",
   "execution_count": null,
   "metadata": {},
   "outputs": [],
   "source": [
    "t=data.frame(x_t,x_t1,x_t2,x_t3,x_t4,x_t5)\n",
    "cor(t)"
   ]
  },
  {
   "cell_type": "markdown",
   "metadata": {},
   "source": [
    "3. Vytvorte štandardný autoregresný model pre predikovanie časového radu `dpi` na\n",
    "základe `consumption` s časovým oknom M=5:\n",
    "\n",
    "𝑦𝑡 = 𝛽0𝑥𝑡 + 𝛽1𝑥𝑡−1 + 𝛽2𝑥𝑡−2 + 𝛽3𝑥𝑡−3 + 𝛽4𝑥𝑡−4 + 𝛽5𝑥𝑡−5\n",
    "\n",
    "Porovnajte presnosť modelu s Almonovej modelom. Porovnajte vypočítané\n",
    "koeficienty podľa štandardného modelu a po Almonovej transformácii."
   ]
  },
  {
   "cell_type": "code",
   "execution_count": null,
   "metadata": {},
   "outputs": [],
   "source": [
    "library(\"dynlm\")\n",
    "dpi_lm <- dynlm(dpi ~ L(consumption,5) , data=USMacroG)\n",
    "\n",
    "summary(dpi_lm)\n",
    "summary(td_lm)"
   ]
  },
  {
   "cell_type": "markdown",
   "metadata": {},
   "source": [
    "4. Vytvorte Koyckov model pre predikciu časového radu `gdp` od hodnoty `invest`.\n",
    "Vypočítajte predikciu modelu na trénovacích dátach a zobrazte ich na spoločnom\n",
    "grafe s priebehom `gdp`."
   ]
  },
  {
   "cell_type": "code",
   "execution_count": null,
   "metadata": {},
   "outputs": [],
   "source": [
    "library(dynlm)\n",
    "model = dynlm(gdp ~ invest+L(gdp,1), data = USMacroG)\n",
    "\n",
    "fitted(model)\n",
    "ts.plot(fitted(model),USMacroG[,\"gdp\"],lty=c(1,2))"
   ]
  },
  {
   "cell_type": "markdown",
   "metadata": {},
   "source": [
    "# Cvičenie 6 - Bayesov klasifikátor"
   ]
  },
  {
   "cell_type": "markdown",
   "metadata": {},
   "source": [
    "<object data=\"http://people.tuke.sk/viera.maslej.kresnakova/IE/IE/cvicenie6.pdf\" type=\"application/pdf\" width=\"700px\" height=\"700px\">\n",
    "    <embed src=\"http://people.tuke.sk/viera.maslej.kresnakova/IE/IE/cvicenie6.pdf\">\n",
    "        <p> Cvičenie v PDF dostupné: <a href=\"http://people.tuke.sk/viera.maslej.kresnakova/IE/IE/cvicenie6.pdf\">TU!</a></p>\n",
    "    </embed>\n",
    "</object>"
   ]
  },
  {
   "cell_type": "markdown",
   "metadata": {},
   "source": [
    "Ako príklad si uvedieme postup pre klasifikáciu do dvoch tried (`iris setosa` a `iris versicolor`).\n",
    "Načítame si dáta a vytvoríme si podmnožiny pre jednotlivé triedy:"
   ]
  },
  {
   "cell_type": "code",
   "execution_count": null,
   "metadata": {},
   "outputs": [],
   "source": [
    "data(iris)\n",
    "setosa = iris[iris$Species == \"setosa\",]\n",
    "setosa\n",
    "versicolor = iris[iris$Species == \"versicolor\",]\n",
    "versicolor"
   ]
  },
  {
   "cell_type": "code",
   "execution_count": null,
   "metadata": {},
   "outputs": [],
   "source": [
    "setosa = as.matrix(setosa[1:4])\n",
    "setosa\n",
    "versicolor = as.matrix(versicolor[1:4])\n",
    "versicolor"
   ]
  },
  {
   "cell_type": "markdown",
   "metadata": {},
   "source": [
    "Vypočítame si `P(Y=y)` pre obe triedy:"
   ]
  },
  {
   "cell_type": "code",
   "execution_count": null,
   "metadata": {},
   "outputs": [],
   "source": [
    "p_setosa = nrow(setosa)/(nrow(setosa)+nrow(versicolor))\n",
    "p_setosa\n",
    "p_versicolor = nrow(versicolor)/(nrow(setosa)+nrow(versicolor))\n",
    "p_versicolor"
   ]
  },
  {
   "cell_type": "markdown",
   "metadata": {},
   "source": [
    "Vypočítame si kovariančné matice a vektory stredov pre jednotlivé triedy:"
   ]
  },
  {
   "cell_type": "code",
   "execution_count": null,
   "metadata": {},
   "outputs": [],
   "source": [
    "C_setosa = cov(setosa)\n",
    "C_setosa\n",
    "C_versicolor = cov(versicolor)\n",
    "C_versicolor"
   ]
  },
  {
   "cell_type": "code",
   "execution_count": null,
   "metadata": {},
   "outputs": [],
   "source": [
    "mean_setosa = colMeans(setosa)\n",
    "mean_setosa\n",
    "mean_versicolor = colMeans(versicolor)\n",
    "mean_versicolor"
   ]
  },
  {
   "cell_type": "markdown",
   "metadata": {},
   "source": [
    "Pre nový príklad s hodnotami `x = (5.7, 2.8, 4.1, 1.3)` vypočítame pravdepodobnosť `𝑃(𝑋 =\n",
    "𝒙|𝑌 = 𝑐)` dosadením **kovariančnej matice** a **vektora stredov pre jednotlivé triedy**. Pre\n",
    "viachodnotové normálne rozdelenie môžeme pravdepodobnosť `𝑃(𝑋 = 𝒙|𝑌 = 𝑐)` vypočítať\n",
    "pomocou funkcie `dvnorm` z balíka `emdbook`:"
   ]
  },
  {
   "cell_type": "code",
   "execution_count": null,
   "metadata": {},
   "outputs": [],
   "source": [
    "install.packages(\"emdbook\")"
   ]
  },
  {
   "cell_type": "code",
   "execution_count": null,
   "metadata": {},
   "outputs": [],
   "source": [
    "library(emdbook)"
   ]
  },
  {
   "cell_type": "code",
   "execution_count": null,
   "metadata": {},
   "outputs": [],
   "source": [
    "x = c(5.7, 2.8, 4.1, 1.3) # tento priklad chceme klasifikovat"
   ]
  },
  {
   "cell_type": "code",
   "execution_count": null,
   "metadata": {},
   "outputs": [],
   "source": [
    "p_x_setosa = dmvnorm(x, mean_setosa, C_setosa)\n",
    "p_x_versicolor = dmvnorm(x, mean_versicolor, C_versicolor)\n",
    "\n",
    "p_x_setosa\n",
    "p_x_versicolor"
   ]
  },
  {
   "cell_type": "code",
   "execution_count": null,
   "metadata": {},
   "outputs": [],
   "source": [
    "p_setosa * p_x_setosa\n",
    "p_versicolor * p_x_versicolor"
   ]
  },
  {
   "cell_type": "markdown",
   "metadata": {},
   "source": [
    "Keďže hodnota pre celkový výraz `𝑃(𝑌 = 𝑐)𝑃(𝑋 = 𝒙|𝑌 = 𝑐)` je oveľa väčšia pre triedu\n",
    "`versicolor`, príklad s hodnotami `x = (5.7, 2.8, 4.1, 1.3)` by sme zaradili do triedy `versicolor`."
   ]
  },
  {
   "cell_type": "markdown",
   "metadata": {},
   "source": [
    "## Ulohy"
   ]
  },
  {
   "cell_type": "markdown",
   "metadata": {},
   "source": [
    "1. Načítajte si dáta iris a vypočítajte parametre Bayesovho klasifikátora pre všetky tri\n",
    "triedy `setosa`, `versicolor` a `virginica`."
   ]
  },
  {
   "cell_type": "code",
   "execution_count": null,
   "metadata": {},
   "outputs": [],
   "source": [
    "setosa = iris[iris$Species == \"setosa\",]\n",
    "versicolor = iris[iris$Species == \"versicolor\",]\n",
    "virginica = iris[iris$Species == \"virginica\",]\n",
    "\n",
    "setosa = as.matrix(setosa[1:4])\n",
    "versicolor = as.matrix(versicolor[1:4])\n",
    "virginica = as.matrix(virginica[1:4])\n",
    "\n",
    "p_setosa = nrow(setosa)/(nrow(setosa)+nrow(versicolor)+nrow(virginica))\n",
    "p_versicolor = nrow(versicolor)/(nrow(setosa)+nrow(versicolor)+nrow(virginica))\n",
    "p_virginica = nrow(virginica)/(nrow(setosa)+nrow(versicolor)+nrow(virginica))\n",
    "\n",
    "C_setosa = cov(setosa)\n",
    "C_versicolor = cov(versicolor)\n",
    "C_virginica = cov(virginica)\n",
    "\n",
    "mean_setosa = colMeans(setosa)\n",
    "mean_versicolor = colMeans(versicolor)\n",
    "mean_virginica = colMeans(virginica)"
   ]
  },
  {
   "cell_type": "markdown",
   "metadata": {},
   "source": [
    "2. Klasifikujte všetky príklady, tzn. vypočítajte pre každý príklad z množiny `iris`\n",
    "pravdepodobnosti pre všetky tri triedy a určite do ktorej triedy by príklad patril.\n",
    "Vypočítajte celkovú presnosť klasifikácie (počet správne klasifikovaných príkladov /\n",
    "počet všetkých príkladov)"
   ]
  },
  {
   "cell_type": "code",
   "execution_count": null,
   "metadata": {},
   "outputs": [],
   "source": [
    "x = c(5.7, 2.8, 4.1, 1.3)\n",
    "\n",
    "p_x_setosa = dmvnorm(x, mean_setosa, C_setosa)\n",
    "p_x_versicolor = dmvnorm(x, mean_versicolor, C_versicolor)\n",
    "p_x_virginica = dmvnorm(x, mean_virginica, C_virginica)\n",
    "\n",
    "p_setosa * p_x_setosa\n",
    "p_versicolor * p_x_versicolor\n",
    "p_virginica * p_x_virginica"
   ]
  },
  {
   "cell_type": "markdown",
   "metadata": {},
   "source": [
    "3. Nainštalujte si balík `MASS` a pomocou funkcie` mvrnorm(n, means, C)` si vygenerujte `N\n",
    "= 500` príkladov s viachodnotovým normálnym rozdelením so stredmi `means = c(2,3`\n",
    "a kovariančnou maticou `C = matrix(c(9,6,6,16),2,2)`. Zobrazte vygenerované dáta na\n",
    "grafe. Postupne meňte hodnoty matice C, vygenerujte si nové dáta a pozorujte ako sa\n",
    "zmenia na grafe:\n",
    "\n",
    "    * a. Nastavte hodnoty mimo diagonály na 0.\n",
    "    * b. Nastavte hodnoty na diagonále na 10,10 a 2,2.\n",
    "    * c. Nastavte hodnoty mimo diagonály na -3"
   ]
  },
  {
   "cell_type": "code",
   "execution_count": 2,
   "metadata": {},
   "outputs": [
    {
     "name": "stderr",
     "output_type": "stream",
     "text": [
      "Updating HTML index of packages in '.Library'\n",
      "\n",
      "Making 'packages.html' ...\n",
      " done\n",
      "\n"
     ]
    }
   ],
   "source": [
    "install.packages(\"MASS\")\n",
    "library(MASS)"
   ]
  },
  {
   "cell_type": "code",
   "execution_count": 3,
   "metadata": {},
   "outputs": [],
   "source": [
    "n=500\n",
    "means = c(2,3)"
   ]
  },
  {
   "cell_type": "code",
   "execution_count": 16,
   "metadata": {},
   "outputs": [],
   "source": [
    "#     ak na vedlajsej diagonale su nuly tak to znamena ze su x a y uplne nezavisle ze tam nie su ziadne interakcie, t.j. \n",
    "#     x a y su zavisle len od svojej variancie, ak x=y tak je rozdelenie hodnot rovnake na oboch stranach\n",
    "\n",
    "#     ak tam dame nejake hodnoty prida sa tam interakcia, takze x uz nebude zavisle iba od svojej variancie, ale aj od toho ake velke je y\n",
    "\n",
    "#     ak je tam zaporne => error, lebo nie je splnena podmienka -> symetrická, pozitívne definitná"
   ]
  },
  {
   "cell_type": "code",
   "execution_count": 11,
   "metadata": {},
   "outputs": [
    {
     "data": {
      "image/png": "[encoded data removed]",
      "text/plain": [
       "plot without title"
      ]
     },
     "metadata": {
      "image/png": {
       "height": 420,
       "width": 420
      }
     },
     "output_type": "display_data"
    }
   ],
   "source": [
    "C1 = matrix(c(9,0,0,16),2,2)\n",
    "cisla = mvrnorm(n, means, C1)\n",
    "plot(cisla)"
   ]
  },
  {
   "cell_type": "code",
   "execution_count": 12,
   "metadata": {},
   "outputs": [
    {
     "data": {
      "image/png": "[encoded data removed]",
      "text/plain": [
       "plot without title"
      ]
     },
     "metadata": {
      "image/png": {
       "height": 420,
       "width": 420
      }
     },
     "output_type": "display_data"
    }
   ],
   "source": [
    "C2 = matrix(c(9,6,6,16),2,2)\n",
    "cisla = mvrnorm(n, means, C2)\n",
    "plot(cisla)"
   ]
  },
  {
   "cell_type": "code",
   "execution_count": 13,
   "metadata": {},
   "outputs": [
    {
     "data": {
      "image/png": "[encoded data removed]",
      "text/plain": [
       "plot without title"
      ]
     },
     "metadata": {
      "image/png": {
       "height": 420,
       "width": 420
      }
     },
     "output_type": "display_data"
    }
   ],
   "source": [
    "C3 = matrix(c(10,0,0,10),2,2)\n",
    "cisla = mvrnorm(n, means, C3)\n",
    "plot(cisla)"
   ]
  },
  {
   "cell_type": "code",
   "execution_count": 14,
   "metadata": {},
   "outputs": [
    {
     "data": {
      "image/png": "[encoded data removed]",
      "text/plain": [
       "plot without title"
      ]
     },
     "metadata": {
      "image/png": {
       "height": 420,
       "width": 420
      }
     },
     "output_type": "display_data"
    }
   ],
   "source": [
    "C4 = matrix(c(10,6,6,10),2,2)\n",
    "cisla = mvrnorm(n, means, C4)\n",
    "plot(cisla)"
   ]
  },
  {
   "cell_type": "code",
   "execution_count": 15,
   "metadata": {},
   "outputs": [
    {
     "ename": "ERROR",
     "evalue": "Error in mvrnorm(n, means, C5): 'Sigma' is not positive definite\n",
     "output_type": "error",
     "traceback": [
      "Error in mvrnorm(n, means, C5): 'Sigma' is not positive definite\nTraceback:\n",
      "1. mvrnorm(n, means, C5)",
      "2. stop(\"'Sigma' is not positive definite\")"
     ]
    }
   ],
   "source": [
    "C5= matrix(c(-3,0,6,-3),2,2)\n",
    "cisla = mvrnorm(n, means, C5)\n",
    "plot(cisla)"
   ]
  },
  {
   "cell_type": "markdown",
   "metadata": {},
   "source": [
    "4. Pomocou funkcie mvrnorm si vygenerujte dve dátové množiny o veľkosti `100` a `200`\n",
    "príkladov pre triedy so stredmi `(10,20)` a `(20,30)` a kovariančnými maticami `[(6,2), (2,8)] a [(6,-3), (-3,6)]`. Vypočítajte parametre Bayesovho klasifikátora a klasifikujte\n",
    "príklad s hodnotami `(15, 25)`."
   ]
  },
  {
   "cell_type": "code",
   "execution_count": null,
   "metadata": {},
   "outputs": [],
   "source": [
    "means1 = c(10,20)\n",
    "means2 = c(20,30)\n",
    "C1 = matrix(c(6,2,2,8),2,2)\n",
    "C2 = matrix(c(6,-3,-3,6),2,2)\n",
    "\n",
    "x1 = mvrnorm(100, means1, C1)\n",
    "x2 = mvrnorm(200, means2, C2)\n",
    "plot(x1)\n",
    "plot(x2)\n",
    "\n",
    "\n",
    "x = c(15,25)\n",
    "\n",
    "p1=nrow(x1)/(nrow(x1)+nrow(x2))\n",
    "p1\n",
    "p2=nrow(x2)/(nrow(x1)+nrow(x2))\n",
    "p2\n",
    "\n",
    "p_x1 = dmvnorm(x, means1, C1)\n",
    "p_x1\n",
    "p_x2 = dmvnorm(x, means2, C2)\n",
    "p_x2\n",
    "\n",
    "p1*p_x1\n",
    "p2*p_x2"
   ]
  }
 ],
 "metadata": {
  "kernelspec": {
   "display_name": "R",
   "language": "R",
   "name": "ir"
  },
  "language_info": {
   "codemirror_mode": "r",
   "file_extension": ".r",
   "mimetype": "text/x-r-source",
   "name": "R",
   "pygments_lexer": "r",
   "version": "4.1.3"
  }
 },
 "nbformat": 4,
 "nbformat_minor": 4
}
